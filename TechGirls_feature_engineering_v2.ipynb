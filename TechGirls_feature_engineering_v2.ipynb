{
 "cells": [
  {
   "cell_type": "markdown",
   "metadata": {},
   "source": [
    "# Feature engineering"
   ]
  },
  {
   "cell_type": "markdown",
   "metadata": {},
   "source": [
    "This notebook contains feature engineering part for the following tables:\n",
    "* master categories\n",
    "* line items (all available records)\n",
    "* shipments (all available records)\n",
    "* addresses"
   ]
  },
  {
   "cell_type": "code",
   "execution_count": 410,
   "metadata": {},
   "outputs": [],
   "source": [
    "import numpy as np\n",
    "import pandas as pd\n",
    "import seaborn as sns\n",
    "import matplotlib.pyplot as plt\n",
    "import os\n",
    "import glob\n",
    "\n",
    "import sys\n",
    "from os import listdir\n",
    "from os.path import isfile, join"
   ]
  },
  {
   "cell_type": "markdown",
   "metadata": {},
   "source": [
    "## Data wrangling"
   ]
  },
  {
   "cell_type": "code",
   "execution_count": 3,
   "metadata": {},
   "outputs": [],
   "source": [
    "interesting_files = glob.glob(\"/Users/aigerimshopenova/Desktop/Hackathon_17-18102020/Data/data/line_items01/*.csv\") \n",
    "line1 = pd.concat((pd.read_csv(f, header = 0) for f in interesting_files))\n",
    "line1 = line1.drop_duplicates()\n",
    "\n",
    "line1.drop(['item_id', 'brand_name', 'pricer'], axis='columns', inplace=True)\n",
    "line1.head()\n",
    "line1.to_csv('line1.csv', index=False) "
   ]
  },
  {
   "cell_type": "code",
   "execution_count": 4,
   "metadata": {},
   "outputs": [],
   "source": [
    "interesting_files = glob.glob(\"/Users/aigerimshopenova/Desktop/Hackathon_17-18102020/Data/data/line_items02/*.csv\") \n",
    "line2 = pd.concat((pd.read_csv(f, header = 0) for f in interesting_files))\n",
    "line2 = line2.drop_duplicates()\n",
    "\n",
    "line2.drop(['item_id', 'brand_name', 'pricer'], axis='columns', inplace=True)\n",
    "line2.head()\n",
    "line2.to_csv('line2.csv', index=False) "
   ]
  },
  {
   "cell_type": "code",
   "execution_count": 5,
   "metadata": {},
   "outputs": [],
   "source": [
    "interesting_files = glob.glob(\"/Users/aigerimshopenova/Desktop/Hackathon_17-18102020/Data/data/line_items03/*.csv\") \n",
    "line3 = pd.concat((pd.read_csv(f, header = 0) for f in interesting_files))\n",
    "line3 = line3.drop_duplicates()\n",
    "\n",
    "line3.drop(['item_id', 'brand_name', 'pricer'], axis='columns', inplace=True)\n",
    "line3.to_csv('line3.csv', index=False) "
   ]
  },
  {
   "cell_type": "code",
   "execution_count": 6,
   "metadata": {},
   "outputs": [],
   "source": [
    "interesting_files = glob.glob(\"/Users/aigerimshopenova/Desktop/Hackathon_17-18102020/Data/data/line_items04/*.csv\") \n",
    "line4 = pd.concat((pd.read_csv(f, header = 0) for f in interesting_files))\n",
    "line4 = line4.drop_duplicates()\n",
    "\n",
    "line4.drop(['item_id', 'brand_name', 'pricer'], axis='columns', inplace=True)\n",
    "line4.to_csv('line4.csv', index=False)"
   ]
  },
  {
   "cell_type": "code",
   "execution_count": 7,
   "metadata": {},
   "outputs": [],
   "source": [
    "interesting_files = glob.glob(\"/Users/aigerimshopenova/Desktop/Hackathon_17-18102020/Data/data/line_items05/*.csv\") \n",
    "line5 = pd.concat((pd.read_csv(f, header = 0) for f in interesting_files))\n",
    "line5 = line5.drop_duplicates()\n",
    "\n",
    "line5.drop(['item_id', 'brand_name', 'pricer'], axis='columns', inplace=True)\n",
    "line5.to_csv('line5.csv', index=False) "
   ]
  },
  {
   "cell_type": "code",
   "execution_count": 8,
   "metadata": {},
   "outputs": [],
   "source": [
    "interesting_files = glob.glob(\"/Users/aigerimshopenova/Desktop/Hackathon_17-18102020/Data/data/line_items06/*.csv\") \n",
    "line6 = pd.concat((pd.read_csv(f, header = 0) for f in interesting_files))\n",
    "line6 = line6.drop_duplicates()\n",
    "\n",
    "line6.drop(['item_id','brand_name', 'pricer'], axis='columns', inplace=True)\n",
    "line6.to_csv('line6.csv', index=False)"
   ]
  },
  {
   "cell_type": "code",
   "execution_count": 9,
   "metadata": {},
   "outputs": [],
   "source": [
    "interesting_files = glob.glob(\"/Users/aigerimshopenova/Desktop/Hackathon_17-18102020/Data/data/line_items07/*.csv\") \n",
    "line7 = pd.concat((pd.read_csv(f, header = 0) for f in interesting_files))\n",
    "line7 = line7.drop_duplicates()\n",
    "\n",
    "line7.drop(['item_id', 'brand_name', 'pricer'], axis='columns', inplace=True)\n",
    "line6.to_csv('line7.csv', index=False)"
   ]
  },
  {
   "cell_type": "code",
   "execution_count": 10,
   "metadata": {},
   "outputs": [],
   "source": [
    "interesting_files = glob.glob(\"/Users/aigerimshopenova/Desktop/Hackathon_17-18102020/Data/data/line_items08/*.csv\") \n",
    "line8 = pd.concat((pd.read_csv(f, header = 0) for f in interesting_files))\n",
    "line8 = line8.drop_duplicates()\n",
    "\n",
    "line8.drop(['item_id', 'brand_name', 'pricer'], axis='columns', inplace=True)\n",
    "line8.to_csv('line8.csv', index=False) "
   ]
  },
  {
   "cell_type": "code",
   "execution_count": 11,
   "metadata": {},
   "outputs": [],
   "source": [
    "all_lines = pd.concat([line1, line2, line3, line4, line5, line6, line7, line8], ignore_index=True)  # Дата со всеми доставками включая август\n"
   ]
  },
  {
   "cell_type": "code",
   "execution_count": 12,
   "metadata": {},
   "outputs": [
    {
     "data": {
      "text/html": [
       "<div>\n",
       "<style scoped>\n",
       "    .dataframe tbody tr th:only-of-type {\n",
       "        vertical-align: middle;\n",
       "    }\n",
       "\n",
       "    .dataframe tbody tr th {\n",
       "        vertical-align: top;\n",
       "    }\n",
       "\n",
       "    .dataframe thead th {\n",
       "        text-align: right;\n",
       "    }\n",
       "</style>\n",
       "<table border=\"1\" class=\"dataframe\">\n",
       "  <thead>\n",
       "    <tr style=\"text-align: right;\">\n",
       "      <th></th>\n",
       "      <th>shipment_id</th>\n",
       "      <th>master_category_id</th>\n",
       "      <th>created_at</th>\n",
       "      <th>price</th>\n",
       "      <th>discount</th>\n",
       "      <th>quantity</th>\n",
       "      <th>product_id</th>\n",
       "      <th>replaced</th>\n",
       "      <th>cancelled</th>\n",
       "      <th>id</th>\n",
       "      <th>name</th>\n",
       "      <th>parent_category_id</th>\n",
       "    </tr>\n",
       "  </thead>\n",
       "  <tbody>\n",
       "    <tr>\n",
       "      <th>0</th>\n",
       "      <td>387023.0</td>\n",
       "      <td>34.0</td>\n",
       "      <td>2018-03-02 17:23:48</td>\n",
       "      <td>64.989998</td>\n",
       "      <td>0.0</td>\n",
       "      <td>1.0</td>\n",
       "      <td>14840.0</td>\n",
       "      <td>0.0</td>\n",
       "      <td>0.0</td>\n",
       "      <td>NaN</td>\n",
       "      <td>NaN</td>\n",
       "      <td>NaN</td>\n",
       "    </tr>\n",
       "    <tr>\n",
       "      <th>1</th>\n",
       "      <td>387023.0</td>\n",
       "      <td>22.0</td>\n",
       "      <td>2018-03-02 17:32:52</td>\n",
       "      <td>22.990000</td>\n",
       "      <td>0.0</td>\n",
       "      <td>1.0</td>\n",
       "      <td>66260.0</td>\n",
       "      <td>0.0</td>\n",
       "      <td>0.0</td>\n",
       "      <td>NaN</td>\n",
       "      <td>NaN</td>\n",
       "      <td>NaN</td>\n",
       "    </tr>\n",
       "    <tr>\n",
       "      <th>2</th>\n",
       "      <td>387023.0</td>\n",
       "      <td>22.0</td>\n",
       "      <td>2018-03-02 17:33:24</td>\n",
       "      <td>39.990002</td>\n",
       "      <td>0.0</td>\n",
       "      <td>1.0</td>\n",
       "      <td>85595.0</td>\n",
       "      <td>0.0</td>\n",
       "      <td>0.0</td>\n",
       "      <td>NaN</td>\n",
       "      <td>NaN</td>\n",
       "      <td>NaN</td>\n",
       "    </tr>\n",
       "    <tr>\n",
       "      <th>3</th>\n",
       "      <td>387023.0</td>\n",
       "      <td>23.0</td>\n",
       "      <td>2018-03-02 17:34:20</td>\n",
       "      <td>59.990002</td>\n",
       "      <td>0.0</td>\n",
       "      <td>1.0</td>\n",
       "      <td>12892.0</td>\n",
       "      <td>0.0</td>\n",
       "      <td>0.0</td>\n",
       "      <td>NaN</td>\n",
       "      <td>NaN</td>\n",
       "      <td>NaN</td>\n",
       "    </tr>\n",
       "    <tr>\n",
       "      <th>4</th>\n",
       "      <td>387023.0</td>\n",
       "      <td>26.0</td>\n",
       "      <td>2018-03-02 17:34:46</td>\n",
       "      <td>48.900002</td>\n",
       "      <td>0.0</td>\n",
       "      <td>1.0</td>\n",
       "      <td>166.0</td>\n",
       "      <td>0.0</td>\n",
       "      <td>0.0</td>\n",
       "      <td>NaN</td>\n",
       "      <td>NaN</td>\n",
       "      <td>NaN</td>\n",
       "    </tr>\n",
       "  </tbody>\n",
       "</table>\n",
       "</div>"
      ],
      "text/plain": [
       "   shipment_id  master_category_id           created_at      price  discount  \\\n",
       "0     387023.0                34.0  2018-03-02 17:23:48  64.989998       0.0   \n",
       "1     387023.0                22.0  2018-03-02 17:32:52  22.990000       0.0   \n",
       "2     387023.0                22.0  2018-03-02 17:33:24  39.990002       0.0   \n",
       "3     387023.0                23.0  2018-03-02 17:34:20  59.990002       0.0   \n",
       "4     387023.0                26.0  2018-03-02 17:34:46  48.900002       0.0   \n",
       "\n",
       "   quantity  product_id  replaced  cancelled  id name  parent_category_id  \n",
       "0       1.0     14840.0       0.0        0.0 NaN  NaN                 NaN  \n",
       "1       1.0     66260.0       0.0        0.0 NaN  NaN                 NaN  \n",
       "2       1.0     85595.0       0.0        0.0 NaN  NaN                 NaN  \n",
       "3       1.0     12892.0       0.0        0.0 NaN  NaN                 NaN  \n",
       "4       1.0       166.0       0.0        0.0 NaN  NaN                 NaN  "
      ]
     },
     "execution_count": 12,
     "metadata": {},
     "output_type": "execute_result"
    }
   ],
   "source": [
    "all_lines.head()"
   ]
  },
  {
   "cell_type": "code",
   "execution_count": 13,
   "metadata": {},
   "outputs": [
    {
     "name": "stdout",
     "output_type": "stream",
     "text": [
      "<class 'pandas.core.frame.DataFrame'>\n",
      "RangeIndex: 61248803 entries, 0 to 61248802\n",
      "Data columns (total 12 columns):\n",
      " #   Column              Non-Null Count     Dtype  \n",
      "---  ------              --------------     -----  \n",
      " 0   shipment_id         61247787 non-null  float64\n",
      " 1   master_category_id  60451399 non-null  float64\n",
      " 2   created_at          61247787 non-null  object \n",
      " 3   price               61247787 non-null  float64\n",
      " 4   discount            61247787 non-null  float64\n",
      " 5   quantity            61247787 non-null  float64\n",
      " 6   product_id          61247787 non-null  float64\n",
      " 7   replaced            61247787 non-null  float64\n",
      " 8   cancelled           61247787 non-null  float64\n",
      " 9   id                  1016 non-null      float64\n",
      " 10  name                1016 non-null      object \n",
      " 11  parent_category_id  1016 non-null      float64\n",
      "dtypes: float64(10), object(2)\n",
      "memory usage: 5.5+ GB\n"
     ]
    }
   ],
   "source": [
    "all_lines.info(null_counts=True)"
   ]
  },
  {
   "cell_type": "code",
   "execution_count": 14,
   "metadata": {},
   "outputs": [
    {
     "name": "stdout",
     "output_type": "stream",
     "text": [
      "all_lines\t glob\t interesting_files\t isfile\t join\t line1\t line2\t line3\t line4\t \n",
      "line5\t line6\t line7\t line8\t listdir\t np\t os\t pd\t plt\t \n",
      "sns\t sys\t \n"
     ]
    }
   ],
   "source": [
    "%who"
   ]
  },
  {
   "cell_type": "code",
   "execution_count": 15,
   "metadata": {},
   "outputs": [],
   "source": [
    "del line1\n",
    "del line2\n",
    "del line3\n",
    "del line4\n",
    "del line5\n",
    "del line6\n",
    "del line7\n",
    "del line8\n",
    "del interesting_files"
   ]
  },
  {
   "cell_type": "code",
   "execution_count": 17,
   "metadata": {},
   "outputs": [
    {
     "name": "stdout",
     "output_type": "stream",
     "text": [
      "all_lines\t glob\t isfile\t join\t listdir\t np\t os\t pd\t plt\t \n",
      "sns\t sys\t \n"
     ]
    }
   ],
   "source": [
    "%who"
   ]
  },
  {
   "cell_type": "code",
   "execution_count": 18,
   "metadata": {},
   "outputs": [],
   "source": [
    "# Read master categories and adresses\n",
    "master_categories = pd.read_csv('master_categories.csv')\n",
    "adresses = pd.read_csv('addresses.csv')"
   ]
  },
  {
   "cell_type": "code",
   "execution_count": 19,
   "metadata": {},
   "outputs": [],
   "source": [
    "# Read file with all shipments\n",
    "shipments = pd.read_csv('shipments_all.csv')"
   ]
  },
  {
   "cell_type": "markdown",
   "metadata": {},
   "source": [
    "## Data engineering"
   ]
  },
  {
   "cell_type": "code",
   "execution_count": 20,
   "metadata": {},
   "outputs": [
    {
     "data": {
      "text/html": [
       "<div>\n",
       "<style scoped>\n",
       "    .dataframe tbody tr th:only-of-type {\n",
       "        vertical-align: middle;\n",
       "    }\n",
       "\n",
       "    .dataframe tbody tr th {\n",
       "        vertical-align: top;\n",
       "    }\n",
       "\n",
       "    .dataframe thead th {\n",
       "        text-align: right;\n",
       "    }\n",
       "</style>\n",
       "<table border=\"1\" class=\"dataframe\">\n",
       "  <thead>\n",
       "    <tr style=\"text-align: right;\">\n",
       "      <th></th>\n",
       "      <th>shipment_id</th>\n",
       "      <th>master_category_id</th>\n",
       "      <th>price</th>\n",
       "      <th>discount</th>\n",
       "      <th>quantity</th>\n",
       "      <th>product_id</th>\n",
       "      <th>replaced</th>\n",
       "      <th>cancelled</th>\n",
       "      <th>id</th>\n",
       "      <th>parent_category_id</th>\n",
       "    </tr>\n",
       "  </thead>\n",
       "  <tbody>\n",
       "    <tr>\n",
       "      <th>count</th>\n",
       "      <td>6.124779e+07</td>\n",
       "      <td>6.045140e+07</td>\n",
       "      <td>6.124779e+07</td>\n",
       "      <td>6.124779e+07</td>\n",
       "      <td>6.124779e+07</td>\n",
       "      <td>6.124779e+07</td>\n",
       "      <td>6.124779e+07</td>\n",
       "      <td>6.124779e+07</td>\n",
       "      <td>1016.000000</td>\n",
       "      <td>1.016000e+03</td>\n",
       "    </tr>\n",
       "    <tr>\n",
       "      <th>mean</th>\n",
       "      <td>6.112126e+06</td>\n",
       "      <td>2.611432e+02</td>\n",
       "      <td>1.334067e+02</td>\n",
       "      <td>2.138803e+01</td>\n",
       "      <td>1.585272e+00</td>\n",
       "      <td>1.905728e+06</td>\n",
       "      <td>4.451826e-02</td>\n",
       "      <td>4.311119e-02</td>\n",
       "      <td>508.500000</td>\n",
       "      <td>2.067271e+06</td>\n",
       "    </tr>\n",
       "    <tr>\n",
       "      <th>std</th>\n",
       "      <td>2.170224e+06</td>\n",
       "      <td>2.398796e+02</td>\n",
       "      <td>5.461087e+02</td>\n",
       "      <td>4.697550e+02</td>\n",
       "      <td>4.403134e+00</td>\n",
       "      <td>2.679520e+06</td>\n",
       "      <td>2.062435e-01</td>\n",
       "      <td>2.031074e-01</td>\n",
       "      <td>293.438239</td>\n",
       "      <td>6.588316e+07</td>\n",
       "    </tr>\n",
       "    <tr>\n",
       "      <th>min</th>\n",
       "      <td>1.781630e+05</td>\n",
       "      <td>1.500000e+01</td>\n",
       "      <td>0.000000e+00</td>\n",
       "      <td>-6.010000e+02</td>\n",
       "      <td>0.000000e+00</td>\n",
       "      <td>0.000000e+00</td>\n",
       "      <td>0.000000e+00</td>\n",
       "      <td>0.000000e+00</td>\n",
       "      <td>1.000000</td>\n",
       "      <td>0.000000e+00</td>\n",
       "    </tr>\n",
       "    <tr>\n",
       "      <th>25%</th>\n",
       "      <td>4.513450e+06</td>\n",
       "      <td>6.100000e+01</td>\n",
       "      <td>4.990000e+01</td>\n",
       "      <td>0.000000e+00</td>\n",
       "      <td>1.000000e+00</td>\n",
       "      <td>2.486600e+04</td>\n",
       "      <td>0.000000e+00</td>\n",
       "      <td>0.000000e+00</td>\n",
       "      <td>254.750000</td>\n",
       "      <td>1.560000e+02</td>\n",
       "    </tr>\n",
       "    <tr>\n",
       "      <th>50%</th>\n",
       "      <td>6.144482e+06</td>\n",
       "      <td>1.320000e+02</td>\n",
       "      <td>8.500000e+01</td>\n",
       "      <td>0.000000e+00</td>\n",
       "      <td>1.000000e+00</td>\n",
       "      <td>7.200600e+04</td>\n",
       "      <td>0.000000e+00</td>\n",
       "      <td>0.000000e+00</td>\n",
       "      <td>508.500000</td>\n",
       "      <td>3.920000e+02</td>\n",
       "    </tr>\n",
       "    <tr>\n",
       "      <th>75%</th>\n",
       "      <td>7.883829e+06</td>\n",
       "      <td>5.810000e+02</td>\n",
       "      <td>1.570000e+02</td>\n",
       "      <td>1.669000e+01</td>\n",
       "      <td>1.000000e+00</td>\n",
       "      <td>4.276072e+06</td>\n",
       "      <td>0.000000e+00</td>\n",
       "      <td>0.000000e+00</td>\n",
       "      <td>762.250000</td>\n",
       "      <td>5.080000e+02</td>\n",
       "    </tr>\n",
       "    <tr>\n",
       "      <th>max</th>\n",
       "      <td>9.915272e+06</td>\n",
       "      <td>1.013000e+03</td>\n",
       "      <td>9.867690e+05</td>\n",
       "      <td>2.091940e+06</td>\n",
       "      <td>5.721000e+03</td>\n",
       "      <td>1.575921e+07</td>\n",
       "      <td>1.000000e+00</td>\n",
       "      <td>1.000000e+00</td>\n",
       "      <td>1016.000000</td>\n",
       "      <td>2.100010e+09</td>\n",
       "    </tr>\n",
       "  </tbody>\n",
       "</table>\n",
       "</div>"
      ],
      "text/plain": [
       "        shipment_id  master_category_id         price      discount  \\\n",
       "count  6.124779e+07        6.045140e+07  6.124779e+07  6.124779e+07   \n",
       "mean   6.112126e+06        2.611432e+02  1.334067e+02  2.138803e+01   \n",
       "std    2.170224e+06        2.398796e+02  5.461087e+02  4.697550e+02   \n",
       "min    1.781630e+05        1.500000e+01  0.000000e+00 -6.010000e+02   \n",
       "25%    4.513450e+06        6.100000e+01  4.990000e+01  0.000000e+00   \n",
       "50%    6.144482e+06        1.320000e+02  8.500000e+01  0.000000e+00   \n",
       "75%    7.883829e+06        5.810000e+02  1.570000e+02  1.669000e+01   \n",
       "max    9.915272e+06        1.013000e+03  9.867690e+05  2.091940e+06   \n",
       "\n",
       "           quantity    product_id      replaced     cancelled           id  \\\n",
       "count  6.124779e+07  6.124779e+07  6.124779e+07  6.124779e+07  1016.000000   \n",
       "mean   1.585272e+00  1.905728e+06  4.451826e-02  4.311119e-02   508.500000   \n",
       "std    4.403134e+00  2.679520e+06  2.062435e-01  2.031074e-01   293.438239   \n",
       "min    0.000000e+00  0.000000e+00  0.000000e+00  0.000000e+00     1.000000   \n",
       "25%    1.000000e+00  2.486600e+04  0.000000e+00  0.000000e+00   254.750000   \n",
       "50%    1.000000e+00  7.200600e+04  0.000000e+00  0.000000e+00   508.500000   \n",
       "75%    1.000000e+00  4.276072e+06  0.000000e+00  0.000000e+00   762.250000   \n",
       "max    5.721000e+03  1.575921e+07  1.000000e+00  1.000000e+00  1016.000000   \n",
       "\n",
       "       parent_category_id  \n",
       "count        1.016000e+03  \n",
       "mean         2.067271e+06  \n",
       "std          6.588316e+07  \n",
       "min          0.000000e+00  \n",
       "25%          1.560000e+02  \n",
       "50%          3.920000e+02  \n",
       "75%          5.080000e+02  \n",
       "max          2.100010e+09  "
      ]
     },
     "execution_count": 20,
     "metadata": {},
     "output_type": "execute_result"
    }
   ],
   "source": [
    "all_lines.describe()"
   ]
  },
  {
   "cell_type": "code",
   "execution_count": 21,
   "metadata": {},
   "outputs": [],
   "source": [
    "# Let us calculate 'total_receipt' by quantity * price\n",
    "all_lines['receipt'] = all_lines['price'] * all_lines['quantity']"
   ]
  },
  {
   "cell_type": "code",
   "execution_count": 28,
   "metadata": {},
   "outputs": [],
   "source": [
    "# Get number of shipped items\n",
    "ship_number = all_lines.groupby(['shipment_id']).size().reset_index(name='shipped_item_count')"
   ]
  },
  {
   "cell_type": "code",
   "execution_count": 29,
   "metadata": {},
   "outputs": [
    {
     "data": {
      "text/html": [
       "<div>\n",
       "<style scoped>\n",
       "    .dataframe tbody tr th:only-of-type {\n",
       "        vertical-align: middle;\n",
       "    }\n",
       "\n",
       "    .dataframe tbody tr th {\n",
       "        vertical-align: top;\n",
       "    }\n",
       "\n",
       "    .dataframe thead th {\n",
       "        text-align: right;\n",
       "    }\n",
       "</style>\n",
       "<table border=\"1\" class=\"dataframe\">\n",
       "  <thead>\n",
       "    <tr style=\"text-align: right;\">\n",
       "      <th></th>\n",
       "      <th>shipment_id</th>\n",
       "      <th>shipped_item_count</th>\n",
       "    </tr>\n",
       "  </thead>\n",
       "  <tbody>\n",
       "    <tr>\n",
       "      <th>0</th>\n",
       "      <td>178163.0</td>\n",
       "      <td>31</td>\n",
       "    </tr>\n",
       "    <tr>\n",
       "      <th>1</th>\n",
       "      <td>273988.0</td>\n",
       "      <td>81</td>\n",
       "    </tr>\n",
       "    <tr>\n",
       "      <th>2</th>\n",
       "      <td>322307.0</td>\n",
       "      <td>24</td>\n",
       "    </tr>\n",
       "    <tr>\n",
       "      <th>3</th>\n",
       "      <td>337809.0</td>\n",
       "      <td>45</td>\n",
       "    </tr>\n",
       "    <tr>\n",
       "      <th>4</th>\n",
       "      <td>351762.0</td>\n",
       "      <td>54</td>\n",
       "    </tr>\n",
       "  </tbody>\n",
       "</table>\n",
       "</div>"
      ],
      "text/plain": [
       "   shipment_id  shipped_item_count\n",
       "0     178163.0                  31\n",
       "1     273988.0                  81\n",
       "2     322307.0                  24\n",
       "3     337809.0                  45\n",
       "4     351762.0                  54"
      ]
     },
     "execution_count": 29,
     "metadata": {},
     "output_type": "execute_result"
    }
   ],
   "source": [
    "ship_number.head()"
   ]
  },
  {
   "cell_type": "code",
   "execution_count": 30,
   "metadata": {},
   "outputs": [
    {
     "name": "stdout",
     "output_type": "stream",
     "text": [
      "<class 'pandas.core.frame.DataFrame'>\n",
      "RangeIndex: 2266599 entries, 0 to 2266598\n",
      "Data columns (total 2 columns):\n",
      " #   Column              Non-Null Count    Dtype  \n",
      "---  ------              --------------    -----  \n",
      " 0   shipment_id         2266599 non-null  float64\n",
      " 1   shipped_item_count  2266599 non-null  int64  \n",
      "dtypes: float64(1), int64(1)\n",
      "memory usage: 34.6 MB\n"
     ]
    }
   ],
   "source": [
    "ship_number.info(null_counts=True)"
   ]
  },
  {
   "cell_type": "code",
   "execution_count": 31,
   "metadata": {},
   "outputs": [],
   "source": [
    "all_lines_agg = all_lines.groupby(['shipment_id']).agg({'receipt':'sum', 'discount':'sum', 'replaced':'sum', 'cancelled':'sum'})"
   ]
  },
  {
   "cell_type": "code",
   "execution_count": 32,
   "metadata": {},
   "outputs": [
    {
     "data": {
      "text/html": [
       "<div>\n",
       "<style scoped>\n",
       "    .dataframe tbody tr th:only-of-type {\n",
       "        vertical-align: middle;\n",
       "    }\n",
       "\n",
       "    .dataframe tbody tr th {\n",
       "        vertical-align: top;\n",
       "    }\n",
       "\n",
       "    .dataframe thead th {\n",
       "        text-align: right;\n",
       "    }\n",
       "</style>\n",
       "<table border=\"1\" class=\"dataframe\">\n",
       "  <thead>\n",
       "    <tr style=\"text-align: right;\">\n",
       "      <th></th>\n",
       "      <th>receipt</th>\n",
       "      <th>discount</th>\n",
       "      <th>replaced</th>\n",
       "      <th>cancelled</th>\n",
       "    </tr>\n",
       "    <tr>\n",
       "      <th>shipment_id</th>\n",
       "      <th></th>\n",
       "      <th></th>\n",
       "      <th></th>\n",
       "      <th></th>\n",
       "    </tr>\n",
       "  </thead>\n",
       "  <tbody>\n",
       "    <tr>\n",
       "      <th>178163.0</th>\n",
       "      <td>9250.090002</td>\n",
       "      <td>771.759991</td>\n",
       "      <td>0.0</td>\n",
       "      <td>7.0</td>\n",
       "    </tr>\n",
       "    <tr>\n",
       "      <th>273988.0</th>\n",
       "      <td>36924.060050</td>\n",
       "      <td>2152.390018</td>\n",
       "      <td>4.0</td>\n",
       "      <td>9.0</td>\n",
       "    </tr>\n",
       "    <tr>\n",
       "      <th>322307.0</th>\n",
       "      <td>3579.300032</td>\n",
       "      <td>284.900002</td>\n",
       "      <td>0.0</td>\n",
       "      <td>1.0</td>\n",
       "    </tr>\n",
       "    <tr>\n",
       "      <th>337809.0</th>\n",
       "      <td>8884.640038</td>\n",
       "      <td>543.239995</td>\n",
       "      <td>2.0</td>\n",
       "      <td>0.0</td>\n",
       "    </tr>\n",
       "    <tr>\n",
       "      <th>351762.0</th>\n",
       "      <td>8297.440020</td>\n",
       "      <td>588.820007</td>\n",
       "      <td>0.0</td>\n",
       "      <td>0.0</td>\n",
       "    </tr>\n",
       "  </tbody>\n",
       "</table>\n",
       "</div>"
      ],
      "text/plain": [
       "                  receipt     discount  replaced  cancelled\n",
       "shipment_id                                                \n",
       "178163.0      9250.090002   771.759991       0.0        7.0\n",
       "273988.0     36924.060050  2152.390018       4.0        9.0\n",
       "322307.0      3579.300032   284.900002       0.0        1.0\n",
       "337809.0      8884.640038   543.239995       2.0        0.0\n",
       "351762.0      8297.440020   588.820007       0.0        0.0"
      ]
     },
     "execution_count": 32,
     "metadata": {},
     "output_type": "execute_result"
    }
   ],
   "source": [
    "all_lines_agg.head()"
   ]
  },
  {
   "cell_type": "code",
   "execution_count": 34,
   "metadata": {},
   "outputs": [],
   "source": [
    "all_lines_agg.rename(columns={'receipt':'total_receipt', 'dicount':'total_discount'}, inplace=True)"
   ]
  },
  {
   "cell_type": "code",
   "execution_count": 36,
   "metadata": {},
   "outputs": [
    {
     "data": {
      "text/html": [
       "<div>\n",
       "<style scoped>\n",
       "    .dataframe tbody tr th:only-of-type {\n",
       "        vertical-align: middle;\n",
       "    }\n",
       "\n",
       "    .dataframe tbody tr th {\n",
       "        vertical-align: top;\n",
       "    }\n",
       "\n",
       "    .dataframe thead th {\n",
       "        text-align: right;\n",
       "    }\n",
       "</style>\n",
       "<table border=\"1\" class=\"dataframe\">\n",
       "  <thead>\n",
       "    <tr style=\"text-align: right;\">\n",
       "      <th></th>\n",
       "      <th>total_receipt</th>\n",
       "      <th>discount</th>\n",
       "      <th>replaced</th>\n",
       "      <th>cancelled</th>\n",
       "    </tr>\n",
       "  </thead>\n",
       "  <tbody>\n",
       "    <tr>\n",
       "      <th>count</th>\n",
       "      <td>2.266599e+06</td>\n",
       "      <td>2.266599e+06</td>\n",
       "      <td>2.266599e+06</td>\n",
       "      <td>2.266599e+06</td>\n",
       "    </tr>\n",
       "    <tr>\n",
       "      <th>mean</th>\n",
       "      <td>4.612331e+03</td>\n",
       "      <td>5.779451e+02</td>\n",
       "      <td>1.202968e+00</td>\n",
       "      <td>1.164946e+00</td>\n",
       "    </tr>\n",
       "    <tr>\n",
       "      <th>std</th>\n",
       "      <td>6.021832e+03</td>\n",
       "      <td>2.560887e+03</td>\n",
       "      <td>1.769575e+00</td>\n",
       "      <td>1.906352e+00</td>\n",
       "    </tr>\n",
       "    <tr>\n",
       "      <th>min</th>\n",
       "      <td>2.793000e+01</td>\n",
       "      <td>-4.525100e+02</td>\n",
       "      <td>0.000000e+00</td>\n",
       "      <td>0.000000e+00</td>\n",
       "    </tr>\n",
       "    <tr>\n",
       "      <th>25%</th>\n",
       "      <td>2.215540e+03</td>\n",
       "      <td>9.024000e+01</td>\n",
       "      <td>0.000000e+00</td>\n",
       "      <td>0.000000e+00</td>\n",
       "    </tr>\n",
       "    <tr>\n",
       "      <th>50%</th>\n",
       "      <td>3.482520e+03</td>\n",
       "      <td>3.168000e+02</td>\n",
       "      <td>1.000000e+00</td>\n",
       "      <td>0.000000e+00</td>\n",
       "    </tr>\n",
       "    <tr>\n",
       "      <th>75%</th>\n",
       "      <td>5.572790e+03</td>\n",
       "      <td>7.382800e+02</td>\n",
       "      <td>2.000000e+00</td>\n",
       "      <td>2.000000e+00</td>\n",
       "    </tr>\n",
       "    <tr>\n",
       "      <th>max</th>\n",
       "      <td>1.546364e+06</td>\n",
       "      <td>2.092505e+06</td>\n",
       "      <td>5.200000e+01</td>\n",
       "      <td>1.120000e+02</td>\n",
       "    </tr>\n",
       "  </tbody>\n",
       "</table>\n",
       "</div>"
      ],
      "text/plain": [
       "       total_receipt      discount      replaced     cancelled\n",
       "count   2.266599e+06  2.266599e+06  2.266599e+06  2.266599e+06\n",
       "mean    4.612331e+03  5.779451e+02  1.202968e+00  1.164946e+00\n",
       "std     6.021832e+03  2.560887e+03  1.769575e+00  1.906352e+00\n",
       "min     2.793000e+01 -4.525100e+02  0.000000e+00  0.000000e+00\n",
       "25%     2.215540e+03  9.024000e+01  0.000000e+00  0.000000e+00\n",
       "50%     3.482520e+03  3.168000e+02  1.000000e+00  0.000000e+00\n",
       "75%     5.572790e+03  7.382800e+02  2.000000e+00  2.000000e+00\n",
       "max     1.546364e+06  2.092505e+06  5.200000e+01  1.120000e+02"
      ]
     },
     "execution_count": 36,
     "metadata": {},
     "output_type": "execute_result"
    }
   ],
   "source": [
    "all_lines_agg.describe()"
   ]
  },
  {
   "cell_type": "code",
   "execution_count": 38,
   "metadata": {},
   "outputs": [],
   "source": [
    "# Concatenate number of items per shipment to the aggregatred dataframe\n",
    "all_lines_final = pd.merge(all_lines_agg, ship_number, left_on='shipment_id', right_on='shipment_id', how='left')"
   ]
  },
  {
   "cell_type": "code",
   "execution_count": 39,
   "metadata": {},
   "outputs": [
    {
     "data": {
      "text/html": [
       "<div>\n",
       "<style scoped>\n",
       "    .dataframe tbody tr th:only-of-type {\n",
       "        vertical-align: middle;\n",
       "    }\n",
       "\n",
       "    .dataframe tbody tr th {\n",
       "        vertical-align: top;\n",
       "    }\n",
       "\n",
       "    .dataframe thead th {\n",
       "        text-align: right;\n",
       "    }\n",
       "</style>\n",
       "<table border=\"1\" class=\"dataframe\">\n",
       "  <thead>\n",
       "    <tr style=\"text-align: right;\">\n",
       "      <th></th>\n",
       "      <th>shipment_id</th>\n",
       "      <th>total_receipt</th>\n",
       "      <th>discount</th>\n",
       "      <th>replaced</th>\n",
       "      <th>cancelled</th>\n",
       "      <th>shipped_item_count</th>\n",
       "    </tr>\n",
       "  </thead>\n",
       "  <tbody>\n",
       "    <tr>\n",
       "      <th>count</th>\n",
       "      <td>2.266599e+06</td>\n",
       "      <td>2.266599e+06</td>\n",
       "      <td>2.266599e+06</td>\n",
       "      <td>2.266599e+06</td>\n",
       "      <td>2.266599e+06</td>\n",
       "      <td>2.266599e+06</td>\n",
       "    </tr>\n",
       "    <tr>\n",
       "      <th>mean</th>\n",
       "      <td>6.389017e+06</td>\n",
       "      <td>4.612331e+03</td>\n",
       "      <td>5.779451e+02</td>\n",
       "      <td>1.202968e+00</td>\n",
       "      <td>1.164946e+00</td>\n",
       "      <td>2.702189e+01</td>\n",
       "    </tr>\n",
       "    <tr>\n",
       "      <th>std</th>\n",
       "      <td>2.193799e+06</td>\n",
       "      <td>6.021832e+03</td>\n",
       "      <td>2.560887e+03</td>\n",
       "      <td>1.769575e+00</td>\n",
       "      <td>1.906352e+00</td>\n",
       "      <td>2.026556e+01</td>\n",
       "    </tr>\n",
       "    <tr>\n",
       "      <th>min</th>\n",
       "      <td>1.781630e+05</td>\n",
       "      <td>2.793000e+01</td>\n",
       "      <td>-4.525100e+02</td>\n",
       "      <td>0.000000e+00</td>\n",
       "      <td>0.000000e+00</td>\n",
       "      <td>1.000000e+00</td>\n",
       "    </tr>\n",
       "    <tr>\n",
       "      <th>25%</th>\n",
       "      <td>4.824036e+06</td>\n",
       "      <td>2.215540e+03</td>\n",
       "      <td>9.024000e+01</td>\n",
       "      <td>0.000000e+00</td>\n",
       "      <td>0.000000e+00</td>\n",
       "      <td>1.400000e+01</td>\n",
       "    </tr>\n",
       "    <tr>\n",
       "      <th>50%</th>\n",
       "      <td>6.579819e+06</td>\n",
       "      <td>3.482520e+03</td>\n",
       "      <td>3.168000e+02</td>\n",
       "      <td>1.000000e+00</td>\n",
       "      <td>0.000000e+00</td>\n",
       "      <td>2.300000e+01</td>\n",
       "    </tr>\n",
       "    <tr>\n",
       "      <th>75%</th>\n",
       "      <td>8.211286e+06</td>\n",
       "      <td>5.572790e+03</td>\n",
       "      <td>7.382800e+02</td>\n",
       "      <td>2.000000e+00</td>\n",
       "      <td>2.000000e+00</td>\n",
       "      <td>3.500000e+01</td>\n",
       "    </tr>\n",
       "    <tr>\n",
       "      <th>max</th>\n",
       "      <td>9.915272e+06</td>\n",
       "      <td>1.546364e+06</td>\n",
       "      <td>2.092505e+06</td>\n",
       "      <td>5.200000e+01</td>\n",
       "      <td>1.120000e+02</td>\n",
       "      <td>1.312000e+03</td>\n",
       "    </tr>\n",
       "  </tbody>\n",
       "</table>\n",
       "</div>"
      ],
      "text/plain": [
       "        shipment_id  total_receipt      discount      replaced     cancelled  \\\n",
       "count  2.266599e+06   2.266599e+06  2.266599e+06  2.266599e+06  2.266599e+06   \n",
       "mean   6.389017e+06   4.612331e+03  5.779451e+02  1.202968e+00  1.164946e+00   \n",
       "std    2.193799e+06   6.021832e+03  2.560887e+03  1.769575e+00  1.906352e+00   \n",
       "min    1.781630e+05   2.793000e+01 -4.525100e+02  0.000000e+00  0.000000e+00   \n",
       "25%    4.824036e+06   2.215540e+03  9.024000e+01  0.000000e+00  0.000000e+00   \n",
       "50%    6.579819e+06   3.482520e+03  3.168000e+02  1.000000e+00  0.000000e+00   \n",
       "75%    8.211286e+06   5.572790e+03  7.382800e+02  2.000000e+00  2.000000e+00   \n",
       "max    9.915272e+06   1.546364e+06  2.092505e+06  5.200000e+01  1.120000e+02   \n",
       "\n",
       "       shipped_item_count  \n",
       "count        2.266599e+06  \n",
       "mean         2.702189e+01  \n",
       "std          2.026556e+01  \n",
       "min          1.000000e+00  \n",
       "25%          1.400000e+01  \n",
       "50%          2.300000e+01  \n",
       "75%          3.500000e+01  \n",
       "max          1.312000e+03  "
      ]
     },
     "execution_count": 39,
     "metadata": {},
     "output_type": "execute_result"
    }
   ],
   "source": [
    "all_lines_final.describe()"
   ]
  },
  {
   "cell_type": "code",
   "execution_count": 40,
   "metadata": {},
   "outputs": [
    {
     "data": {
      "text/plain": [
       "0"
      ]
     },
     "execution_count": 40,
     "metadata": {},
     "output_type": "execute_result"
    }
   ],
   "source": [
    "all_lines_final.isnull().sum().sum()"
   ]
  },
  {
   "cell_type": "code",
   "execution_count": 41,
   "metadata": {},
   "outputs": [
    {
     "data": {
      "text/plain": [
       "2266599"
      ]
     },
     "execution_count": 41,
     "metadata": {},
     "output_type": "execute_result"
    }
   ],
   "source": [
    "all_lines_final['shipment_id'].nunique()"
   ]
  },
  {
   "cell_type": "code",
   "execution_count": 42,
   "metadata": {},
   "outputs": [
    {
     "data": {
      "text/plain": [
       "(2266599, 6)"
      ]
     },
     "execution_count": 42,
     "metadata": {},
     "output_type": "execute_result"
    }
   ],
   "source": [
    "all_lines_final.shape"
   ]
  },
  {
   "cell_type": "code",
   "execution_count": 43,
   "metadata": {},
   "outputs": [],
   "source": [
    "# Concatenate data of shipments\n",
    "li_ship = pd.merge(all_lines_final, shipments, left_on='shipment_id', right_on='shipment_id', how='left')"
   ]
  },
  {
   "cell_type": "code",
   "execution_count": 500,
   "metadata": {},
   "outputs": [],
   "source": [
    "# Concatenate addresses\n",
    "master = pd.merge(li_ship, adresses, left_on='ship_address_id', right_on='id', how='left')"
   ]
  },
  {
   "cell_type": "code",
   "execution_count": 501,
   "metadata": {},
   "outputs": [
    {
     "data": {
      "text/html": [
       "<div>\n",
       "<style scoped>\n",
       "    .dataframe tbody tr th:only-of-type {\n",
       "        vertical-align: middle;\n",
       "    }\n",
       "\n",
       "    .dataframe tbody tr th {\n",
       "        vertical-align: top;\n",
       "    }\n",
       "\n",
       "    .dataframe thead th {\n",
       "        text-align: right;\n",
       "    }\n",
       "</style>\n",
       "<table border=\"1\" class=\"dataframe\">\n",
       "  <thead>\n",
       "    <tr style=\"text-align: right;\">\n",
       "      <th></th>\n",
       "      <th>shipment_id</th>\n",
       "      <th>total_receipt</th>\n",
       "      <th>discount</th>\n",
       "      <th>replaced</th>\n",
       "      <th>cancelled</th>\n",
       "      <th>shipped_item_count</th>\n",
       "      <th>user_id</th>\n",
       "      <th>ship_address_id</th>\n",
       "      <th>order_id</th>\n",
       "      <th>order_created_at</th>\n",
       "      <th>...</th>\n",
       "      <th>total_cost</th>\n",
       "      <th>rate</th>\n",
       "      <th>dw_kind</th>\n",
       "      <th>promo_total</th>\n",
       "      <th>total_weight</th>\n",
       "      <th>platform</th>\n",
       "      <th>os</th>\n",
       "      <th>shipped_at</th>\n",
       "      <th>id</th>\n",
       "      <th>phone_id</th>\n",
       "    </tr>\n",
       "  </thead>\n",
       "  <tbody>\n",
       "    <tr>\n",
       "      <th>0</th>\n",
       "      <td>178163.0</td>\n",
       "      <td>9250.090002</td>\n",
       "      <td>771.759991</td>\n",
       "      <td>0.0</td>\n",
       "      <td>7.0</td>\n",
       "      <td>31</td>\n",
       "      <td>4077.0</td>\n",
       "      <td>4058639.0</td>\n",
       "      <td>1291559.0</td>\n",
       "      <td>2017-05-10 10:16:41</td>\n",
       "      <td>...</td>\n",
       "      <td>158.0</td>\n",
       "      <td>0.0</td>\n",
       "      <td>courier</td>\n",
       "      <td>0.0</td>\n",
       "      <td>27610.0</td>\n",
       "      <td>web</td>\n",
       "      <td>windows</td>\n",
       "      <td>NaN</td>\n",
       "      <td>4058639.0</td>\n",
       "      <td>378928.0</td>\n",
       "    </tr>\n",
       "    <tr>\n",
       "      <th>1</th>\n",
       "      <td>273988.0</td>\n",
       "      <td>36924.060050</td>\n",
       "      <td>2152.390018</td>\n",
       "      <td>4.0</td>\n",
       "      <td>9.0</td>\n",
       "      <td>81</td>\n",
       "      <td>1880213.0</td>\n",
       "      <td>119282.0</td>\n",
       "      <td>2716025.0</td>\n",
       "      <td>2017-10-15 05:58:30</td>\n",
       "      <td>...</td>\n",
       "      <td>423.0</td>\n",
       "      <td>0.0</td>\n",
       "      <td>courier</td>\n",
       "      <td>0.0</td>\n",
       "      <td>88925.0</td>\n",
       "      <td>app</td>\n",
       "      <td>ios</td>\n",
       "      <td>2020-05-18 08:11:48</td>\n",
       "      <td>119282.0</td>\n",
       "      <td>54795.0</td>\n",
       "    </tr>\n",
       "    <tr>\n",
       "      <th>2</th>\n",
       "      <td>322307.0</td>\n",
       "      <td>3579.300032</td>\n",
       "      <td>284.900002</td>\n",
       "      <td>0.0</td>\n",
       "      <td>1.0</td>\n",
       "      <td>24</td>\n",
       "      <td>11019.0</td>\n",
       "      <td>171906.0</td>\n",
       "      <td>2156687.0</td>\n",
       "      <td>2017-08-03 21:25:23</td>\n",
       "      <td>...</td>\n",
       "      <td>168.0</td>\n",
       "      <td>0.0</td>\n",
       "      <td>courier</td>\n",
       "      <td>0.0</td>\n",
       "      <td>30170.0</td>\n",
       "      <td>web</td>\n",
       "      <td>windows</td>\n",
       "      <td>2020-02-20 08:08:54</td>\n",
       "      <td>171906.0</td>\n",
       "      <td>78177.0</td>\n",
       "    </tr>\n",
       "    <tr>\n",
       "      <th>3</th>\n",
       "      <td>337809.0</td>\n",
       "      <td>8884.640038</td>\n",
       "      <td>543.239995</td>\n",
       "      <td>2.0</td>\n",
       "      <td>0.0</td>\n",
       "      <td>45</td>\n",
       "      <td>44708.0</td>\n",
       "      <td>166772.0</td>\n",
       "      <td>2895562.0</td>\n",
       "      <td>2017-12-01 13:10:12</td>\n",
       "      <td>...</td>\n",
       "      <td>0.0</td>\n",
       "      <td>0.0</td>\n",
       "      <td>courier</td>\n",
       "      <td>0.0</td>\n",
       "      <td>17110.0</td>\n",
       "      <td>web</td>\n",
       "      <td>linux</td>\n",
       "      <td>2020-05-06 06:52:10</td>\n",
       "      <td>166772.0</td>\n",
       "      <td>78172.0</td>\n",
       "    </tr>\n",
       "    <tr>\n",
       "      <th>4</th>\n",
       "      <td>351762.0</td>\n",
       "      <td>8297.440020</td>\n",
       "      <td>588.820007</td>\n",
       "      <td>0.0</td>\n",
       "      <td>0.0</td>\n",
       "      <td>54</td>\n",
       "      <td>53887.0</td>\n",
       "      <td>158025.0</td>\n",
       "      <td>2961482.0</td>\n",
       "      <td>2018-01-28 13:49:33</td>\n",
       "      <td>...</td>\n",
       "      <td>98.0</td>\n",
       "      <td>0.0</td>\n",
       "      <td>courier</td>\n",
       "      <td>-300.0</td>\n",
       "      <td>27310.0</td>\n",
       "      <td>web</td>\n",
       "      <td>windows</td>\n",
       "      <td>2020-06-05 10:17:31</td>\n",
       "      <td>158025.0</td>\n",
       "      <td>78167.0</td>\n",
       "    </tr>\n",
       "  </tbody>\n",
       "</table>\n",
       "<p>5 rows × 27 columns</p>\n",
       "</div>"
      ],
      "text/plain": [
       "   shipment_id  total_receipt     discount  replaced  cancelled  \\\n",
       "0     178163.0    9250.090002   771.759991       0.0        7.0   \n",
       "1     273988.0   36924.060050  2152.390018       4.0        9.0   \n",
       "2     322307.0    3579.300032   284.900002       0.0        1.0   \n",
       "3     337809.0    8884.640038   543.239995       2.0        0.0   \n",
       "4     351762.0    8297.440020   588.820007       0.0        0.0   \n",
       "\n",
       "   shipped_item_count    user_id  ship_address_id   order_id  \\\n",
       "0                  31     4077.0        4058639.0  1291559.0   \n",
       "1                  81  1880213.0         119282.0  2716025.0   \n",
       "2                  24    11019.0         171906.0  2156687.0   \n",
       "3                  45    44708.0         166772.0  2895562.0   \n",
       "4                  54    53887.0         158025.0  2961482.0   \n",
       "\n",
       "      order_created_at  ... total_cost rate  dw_kind promo_total total_weight  \\\n",
       "0  2017-05-10 10:16:41  ...      158.0  0.0  courier         0.0      27610.0   \n",
       "1  2017-10-15 05:58:30  ...      423.0  0.0  courier         0.0      88925.0   \n",
       "2  2017-08-03 21:25:23  ...      168.0  0.0  courier         0.0      30170.0   \n",
       "3  2017-12-01 13:10:12  ...        0.0  0.0  courier         0.0      17110.0   \n",
       "4  2018-01-28 13:49:33  ...       98.0  0.0  courier      -300.0      27310.0   \n",
       "\n",
       "  platform       os           shipped_at         id  phone_id  \n",
       "0      web  windows                  NaN  4058639.0  378928.0  \n",
       "1      app      ios  2020-05-18 08:11:48   119282.0   54795.0  \n",
       "2      web  windows  2020-02-20 08:08:54   171906.0   78177.0  \n",
       "3      web    linux  2020-05-06 06:52:10   166772.0   78172.0  \n",
       "4      web  windows  2020-06-05 10:17:31   158025.0   78167.0  \n",
       "\n",
       "[5 rows x 27 columns]"
      ]
     },
     "execution_count": 501,
     "metadata": {},
     "output_type": "execute_result"
    }
   ],
   "source": [
    "master.head()"
   ]
  },
  {
   "cell_type": "code",
   "execution_count": 502,
   "metadata": {},
   "outputs": [
    {
     "name": "stdout",
     "output_type": "stream",
     "text": [
      "<class 'pandas.core.frame.DataFrame'>\n",
      "Int64Index: 2338537 entries, 0 to 2338536\n",
      "Data columns (total 27 columns):\n",
      " #   Column              Non-Null Count    Dtype  \n",
      "---  ------              --------------    -----  \n",
      " 0   shipment_id         2338537 non-null  float64\n",
      " 1   total_receipt       2338537 non-null  float64\n",
      " 2   discount            2338537 non-null  float64\n",
      " 3   replaced            2338537 non-null  float64\n",
      " 4   cancelled           2338537 non-null  float64\n",
      " 5   shipped_item_count  2338537 non-null  int64  \n",
      " 6   user_id             2331693 non-null  float64\n",
      " 7   ship_address_id     2331693 non-null  float64\n",
      " 8   order_id            2331693 non-null  float64\n",
      " 9   order_created_at    2331693 non-null  object \n",
      " 10  order_completed_at  2331693 non-null  object \n",
      " 11  shipment_starts_at  2331693 non-null  object \n",
      " 12  retailer            2331693 non-null  object \n",
      " 13  s.order_state       2331693 non-null  object \n",
      " 14  shipment_state      2324273 non-null  object \n",
      " 15  s.city_name         2331693 non-null  object \n",
      " 16  s.store_id          2331693 non-null  float64\n",
      " 17  total_cost          2331693 non-null  float64\n",
      " 18  rate                2331693 non-null  float64\n",
      " 19  dw_kind             2331693 non-null  object \n",
      " 20  promo_total         2331693 non-null  float64\n",
      " 21  total_weight        2331693 non-null  float64\n",
      " 22  platform            2331647 non-null  object \n",
      " 23  os                  2331647 non-null  object \n",
      " 24  shipped_at          2142424 non-null  object \n",
      " 25  id                  2331693 non-null  float64\n",
      " 26  phone_id            2331693 non-null  float64\n",
      "dtypes: float64(15), int64(1), object(11)\n",
      "memory usage: 499.6+ MB\n"
     ]
    }
   ],
   "source": [
    "master.info(null_counts=True)"
   ]
  },
  {
   "cell_type": "code",
   "execution_count": 503,
   "metadata": {},
   "outputs": [],
   "source": [
    "# Change datatype\n",
    "master['order_completed_at'] = pd.to_datetime(master['order_completed_at'])\n",
    "master['order_created_at'] = pd.to_datetime(master['order_created_at'])\n",
    "master['shipped_at'] = pd.to_datetime(master['shipped_at'])\n",
    "master['shipment_starts_at'] = pd.to_datetime(master['shipment_starts_at'])"
   ]
  },
  {
   "cell_type": "code",
   "execution_count": 504,
   "metadata": {},
   "outputs": [],
   "source": [
    "master['order_completed_month'] = master.order_completed_at.dt.strftime('%B')"
   ]
  },
  {
   "cell_type": "code",
   "execution_count": 505,
   "metadata": {},
   "outputs": [],
   "source": [
    "master['time_delivery_h'] = (master['shipped_at'] - master['order_completed_at']).astype('timedelta64[h]')\n",
    "master['time_shipment_h'] = (master['shipment_starts_at'] - master['shipment_starts_at']).astype('timedelta64[h]')"
   ]
  },
  {
   "cell_type": "code",
   "execution_count": 506,
   "metadata": {},
   "outputs": [
    {
     "data": {
      "text/html": [
       "<div>\n",
       "<style scoped>\n",
       "    .dataframe tbody tr th:only-of-type {\n",
       "        vertical-align: middle;\n",
       "    }\n",
       "\n",
       "    .dataframe tbody tr th {\n",
       "        vertical-align: top;\n",
       "    }\n",
       "\n",
       "    .dataframe thead th {\n",
       "        text-align: right;\n",
       "    }\n",
       "</style>\n",
       "<table border=\"1\" class=\"dataframe\">\n",
       "  <thead>\n",
       "    <tr style=\"text-align: right;\">\n",
       "      <th></th>\n",
       "      <th>shipment_id</th>\n",
       "      <th>total_receipt</th>\n",
       "      <th>discount</th>\n",
       "      <th>replaced</th>\n",
       "      <th>cancelled</th>\n",
       "      <th>shipped_item_count</th>\n",
       "      <th>user_id</th>\n",
       "      <th>ship_address_id</th>\n",
       "      <th>order_id</th>\n",
       "      <th>s.store_id</th>\n",
       "      <th>total_cost</th>\n",
       "      <th>rate</th>\n",
       "      <th>promo_total</th>\n",
       "      <th>total_weight</th>\n",
       "      <th>id</th>\n",
       "      <th>phone_id</th>\n",
       "      <th>time_delivery_h</th>\n",
       "      <th>time_shipment_h</th>\n",
       "    </tr>\n",
       "  </thead>\n",
       "  <tbody>\n",
       "    <tr>\n",
       "      <th>count</th>\n",
       "      <td>2.338537e+06</td>\n",
       "      <td>2.338537e+06</td>\n",
       "      <td>2.338537e+06</td>\n",
       "      <td>2.338537e+06</td>\n",
       "      <td>2.338537e+06</td>\n",
       "      <td>2.338537e+06</td>\n",
       "      <td>2.331693e+06</td>\n",
       "      <td>2.331693e+06</td>\n",
       "      <td>2.331693e+06</td>\n",
       "      <td>2.331693e+06</td>\n",
       "      <td>2.331693e+06</td>\n",
       "      <td>2.331693e+06</td>\n",
       "      <td>2.331693e+06</td>\n",
       "      <td>2.331693e+06</td>\n",
       "      <td>2.331693e+06</td>\n",
       "      <td>2.331693e+06</td>\n",
       "      <td>2.142424e+06</td>\n",
       "      <td>2331693.0</td>\n",
       "    </tr>\n",
       "    <tr>\n",
       "      <th>mean</th>\n",
       "      <td>6.394000e+06</td>\n",
       "      <td>4.612926e+03</td>\n",
       "      <td>5.794045e+02</td>\n",
       "      <td>1.194333e+00</td>\n",
       "      <td>1.164269e+00</td>\n",
       "      <td>2.699065e+01</td>\n",
       "      <td>1.418035e+06</td>\n",
       "      <td>7.797876e+06</td>\n",
       "      <td>1.080349e+07</td>\n",
       "      <td>1.434444e+02</td>\n",
       "      <td>1.147192e+02</td>\n",
       "      <td>2.938525e+00</td>\n",
       "      <td>-7.950516e+01</td>\n",
       "      <td>1.627973e+04</td>\n",
       "      <td>7.797876e+06</td>\n",
       "      <td>2.025602e+05</td>\n",
       "      <td>1.539942e+01</td>\n",
       "      <td>0.0</td>\n",
       "    </tr>\n",
       "    <tr>\n",
       "      <th>std</th>\n",
       "      <td>2.188507e+06</td>\n",
       "      <td>6.005811e+03</td>\n",
       "      <td>2.528273e+03</td>\n",
       "      <td>1.761626e+00</td>\n",
       "      <td>1.907131e+00</td>\n",
       "      <td>2.034332e+01</td>\n",
       "      <td>7.154058e+05</td>\n",
       "      <td>2.710416e+06</td>\n",
       "      <td>2.866577e+06</td>\n",
       "      <td>9.682320e+01</td>\n",
       "      <td>8.303738e+01</td>\n",
       "      <td>2.390193e+00</td>\n",
       "      <td>2.171612e+02</td>\n",
       "      <td>1.471379e+04</td>\n",
       "      <td>2.710416e+06</td>\n",
       "      <td>1.843591e+05</td>\n",
       "      <td>2.362539e+01</td>\n",
       "      <td>0.0</td>\n",
       "    </tr>\n",
       "    <tr>\n",
       "      <th>min</th>\n",
       "      <td>1.781630e+05</td>\n",
       "      <td>2.793000e+01</td>\n",
       "      <td>-4.525100e+02</td>\n",
       "      <td>0.000000e+00</td>\n",
       "      <td>0.000000e+00</td>\n",
       "      <td>1.000000e+00</td>\n",
       "      <td>1.400000e+03</td>\n",
       "      <td>8.531000e+03</td>\n",
       "      <td>3.217000e+03</td>\n",
       "      <td>1.000000e+00</td>\n",
       "      <td>0.000000e+00</td>\n",
       "      <td>0.000000e+00</td>\n",
       "      <td>-2.500000e+04</td>\n",
       "      <td>0.000000e+00</td>\n",
       "      <td>8.531000e+03</td>\n",
       "      <td>2.000000e+00</td>\n",
       "      <td>0.000000e+00</td>\n",
       "      <td>0.0</td>\n",
       "    </tr>\n",
       "    <tr>\n",
       "      <th>25%</th>\n",
       "      <td>4.837895e+06</td>\n",
       "      <td>2.213940e+03</td>\n",
       "      <td>8.999000e+01</td>\n",
       "      <td>0.000000e+00</td>\n",
       "      <td>0.000000e+00</td>\n",
       "      <td>1.400000e+01</td>\n",
       "      <td>8.889150e+05</td>\n",
       "      <td>5.799141e+06</td>\n",
       "      <td>8.623169e+06</td>\n",
       "      <td>8.600000e+01</td>\n",
       "      <td>9.000000e+00</td>\n",
       "      <td>0.000000e+00</td>\n",
       "      <td>-1.500000e+02</td>\n",
       "      <td>7.496000e+03</td>\n",
       "      <td>5.799141e+06</td>\n",
       "      <td>5.638900e+04</td>\n",
       "      <td>3.000000e+00</td>\n",
       "      <td>0.0</td>\n",
       "    </tr>\n",
       "    <tr>\n",
       "      <th>50%</th>\n",
       "      <td>6.583652e+06</td>\n",
       "      <td>3.479980e+03</td>\n",
       "      <td>3.164000e+02</td>\n",
       "      <td>1.000000e+00</td>\n",
       "      <td>0.000000e+00</td>\n",
       "      <td>2.300000e+01</td>\n",
       "      <td>1.462784e+06</td>\n",
       "      <td>8.027076e+06</td>\n",
       "      <td>1.096605e+07</td>\n",
       "      <td>1.300000e+02</td>\n",
       "      <td>1.580000e+02</td>\n",
       "      <td>5.000000e+00</td>\n",
       "      <td>0.000000e+00</td>\n",
       "      <td>1.267000e+04</td>\n",
       "      <td>8.027076e+06</td>\n",
       "      <td>1.412090e+05</td>\n",
       "      <td>8.000000e+00</td>\n",
       "      <td>0.0</td>\n",
       "    </tr>\n",
       "    <tr>\n",
       "      <th>75%</th>\n",
       "      <td>8.209140e+06</td>\n",
       "      <td>5.571380e+03</td>\n",
       "      <td>7.392000e+02</td>\n",
       "      <td>2.000000e+00</td>\n",
       "      <td>2.000000e+00</td>\n",
       "      <td>3.500000e+01</td>\n",
       "      <td>1.935626e+06</td>\n",
       "      <td>1.002086e+07</td>\n",
       "      <td>1.319008e+07</td>\n",
       "      <td>1.890000e+02</td>\n",
       "      <td>1.580000e+02</td>\n",
       "      <td>5.000000e+00</td>\n",
       "      <td>0.000000e+00</td>\n",
       "      <td>2.069500e+04</td>\n",
       "      <td>1.002086e+07</td>\n",
       "      <td>3.058000e+05</td>\n",
       "      <td>1.800000e+01</td>\n",
       "      <td>0.0</td>\n",
       "    </tr>\n",
       "    <tr>\n",
       "      <th>max</th>\n",
       "      <td>9.915272e+06</td>\n",
       "      <td>1.546364e+06</td>\n",
       "      <td>2.092505e+06</td>\n",
       "      <td>5.200000e+01</td>\n",
       "      <td>1.120000e+02</td>\n",
       "      <td>1.312000e+03</td>\n",
       "      <td>2.925252e+06</td>\n",
       "      <td>1.253858e+07</td>\n",
       "      <td>1.590612e+07</td>\n",
       "      <td>7.260000e+02</td>\n",
       "      <td>1.250900e+04</td>\n",
       "      <td>5.000000e+00</td>\n",
       "      <td>0.000000e+00</td>\n",
       "      <td>2.502000e+06</td>\n",
       "      <td>1.253858e+07</td>\n",
       "      <td>7.193740e+05</td>\n",
       "      <td>1.768000e+03</td>\n",
       "      <td>0.0</td>\n",
       "    </tr>\n",
       "  </tbody>\n",
       "</table>\n",
       "</div>"
      ],
      "text/plain": [
       "        shipment_id  total_receipt      discount      replaced     cancelled  \\\n",
       "count  2.338537e+06   2.338537e+06  2.338537e+06  2.338537e+06  2.338537e+06   \n",
       "mean   6.394000e+06   4.612926e+03  5.794045e+02  1.194333e+00  1.164269e+00   \n",
       "std    2.188507e+06   6.005811e+03  2.528273e+03  1.761626e+00  1.907131e+00   \n",
       "min    1.781630e+05   2.793000e+01 -4.525100e+02  0.000000e+00  0.000000e+00   \n",
       "25%    4.837895e+06   2.213940e+03  8.999000e+01  0.000000e+00  0.000000e+00   \n",
       "50%    6.583652e+06   3.479980e+03  3.164000e+02  1.000000e+00  0.000000e+00   \n",
       "75%    8.209140e+06   5.571380e+03  7.392000e+02  2.000000e+00  2.000000e+00   \n",
       "max    9.915272e+06   1.546364e+06  2.092505e+06  5.200000e+01  1.120000e+02   \n",
       "\n",
       "       shipped_item_count       user_id  ship_address_id      order_id  \\\n",
       "count        2.338537e+06  2.331693e+06     2.331693e+06  2.331693e+06   \n",
       "mean         2.699065e+01  1.418035e+06     7.797876e+06  1.080349e+07   \n",
       "std          2.034332e+01  7.154058e+05     2.710416e+06  2.866577e+06   \n",
       "min          1.000000e+00  1.400000e+03     8.531000e+03  3.217000e+03   \n",
       "25%          1.400000e+01  8.889150e+05     5.799141e+06  8.623169e+06   \n",
       "50%          2.300000e+01  1.462784e+06     8.027076e+06  1.096605e+07   \n",
       "75%          3.500000e+01  1.935626e+06     1.002086e+07  1.319008e+07   \n",
       "max          1.312000e+03  2.925252e+06     1.253858e+07  1.590612e+07   \n",
       "\n",
       "         s.store_id    total_cost          rate   promo_total  total_weight  \\\n",
       "count  2.331693e+06  2.331693e+06  2.331693e+06  2.331693e+06  2.331693e+06   \n",
       "mean   1.434444e+02  1.147192e+02  2.938525e+00 -7.950516e+01  1.627973e+04   \n",
       "std    9.682320e+01  8.303738e+01  2.390193e+00  2.171612e+02  1.471379e+04   \n",
       "min    1.000000e+00  0.000000e+00  0.000000e+00 -2.500000e+04  0.000000e+00   \n",
       "25%    8.600000e+01  9.000000e+00  0.000000e+00 -1.500000e+02  7.496000e+03   \n",
       "50%    1.300000e+02  1.580000e+02  5.000000e+00  0.000000e+00  1.267000e+04   \n",
       "75%    1.890000e+02  1.580000e+02  5.000000e+00  0.000000e+00  2.069500e+04   \n",
       "max    7.260000e+02  1.250900e+04  5.000000e+00  0.000000e+00  2.502000e+06   \n",
       "\n",
       "                 id      phone_id  time_delivery_h  time_shipment_h  \n",
       "count  2.331693e+06  2.331693e+06     2.142424e+06        2331693.0  \n",
       "mean   7.797876e+06  2.025602e+05     1.539942e+01              0.0  \n",
       "std    2.710416e+06  1.843591e+05     2.362539e+01              0.0  \n",
       "min    8.531000e+03  2.000000e+00     0.000000e+00              0.0  \n",
       "25%    5.799141e+06  5.638900e+04     3.000000e+00              0.0  \n",
       "50%    8.027076e+06  1.412090e+05     8.000000e+00              0.0  \n",
       "75%    1.002086e+07  3.058000e+05     1.800000e+01              0.0  \n",
       "max    1.253858e+07  7.193740e+05     1.768000e+03              0.0  "
      ]
     },
     "execution_count": 506,
     "metadata": {},
     "output_type": "execute_result"
    }
   ],
   "source": [
    "master.describe()"
   ]
  },
  {
   "cell_type": "code",
   "execution_count": 507,
   "metadata": {},
   "outputs": [
    {
     "data": {
      "text/plain": [
       "May         456648\n",
       "August      441287\n",
       "July        434049\n",
       "June        430125\n",
       "April       265152\n",
       "March       160844\n",
       "February     82466\n",
       "January      61117\n",
       "December         5\n",
       "Name: order_completed_month, dtype: int64"
      ]
     },
     "execution_count": 507,
     "metadata": {},
     "output_type": "execute_result"
    }
   ],
   "source": [
    "master['order_completed_month'].value_counts()"
   ]
  },
  {
   "cell_type": "code",
   "execution_count": 508,
   "metadata": {},
   "outputs": [],
   "source": [
    "master['order_completed_hour_of_day'] = master.order_completed_at.dt.strftime('%H')\n",
    "master['order_completed_day_of_week'] = master.order_completed_at.dt.strftime('%A')"
   ]
  },
  {
   "cell_type": "code",
   "execution_count": 509,
   "metadata": {},
   "outputs": [
    {
     "name": "stdout",
     "output_type": "stream",
     "text": [
      "<class 'pandas.core.frame.DataFrame'>\n",
      "Int64Index: 2338537 entries, 0 to 2338536\n",
      "Data columns (total 32 columns):\n",
      " #   Column                       Non-Null Count    Dtype         \n",
      "---  ------                       --------------    -----         \n",
      " 0   shipment_id                  2338537 non-null  float64       \n",
      " 1   total_receipt                2338537 non-null  float64       \n",
      " 2   discount                     2338537 non-null  float64       \n",
      " 3   replaced                     2338537 non-null  float64       \n",
      " 4   cancelled                    2338537 non-null  float64       \n",
      " 5   shipped_item_count           2338537 non-null  int64         \n",
      " 6   user_id                      2331693 non-null  float64       \n",
      " 7   ship_address_id              2331693 non-null  float64       \n",
      " 8   order_id                     2331693 non-null  float64       \n",
      " 9   order_created_at             2331693 non-null  datetime64[ns]\n",
      " 10  order_completed_at           2331693 non-null  datetime64[ns]\n",
      " 11  shipment_starts_at           2331693 non-null  datetime64[ns]\n",
      " 12  retailer                     2331693 non-null  object        \n",
      " 13  s.order_state                2331693 non-null  object        \n",
      " 14  shipment_state               2324273 non-null  object        \n",
      " 15  s.city_name                  2331693 non-null  object        \n",
      " 16  s.store_id                   2331693 non-null  float64       \n",
      " 17  total_cost                   2331693 non-null  float64       \n",
      " 18  rate                         2331693 non-null  float64       \n",
      " 19  dw_kind                      2331693 non-null  object        \n",
      " 20  promo_total                  2331693 non-null  float64       \n",
      " 21  total_weight                 2331693 non-null  float64       \n",
      " 22  platform                     2331647 non-null  object        \n",
      " 23  os                           2331647 non-null  object        \n",
      " 24  shipped_at                   2142424 non-null  datetime64[ns]\n",
      " 25  id                           2331693 non-null  float64       \n",
      " 26  phone_id                     2331693 non-null  float64       \n",
      " 27  order_completed_month        2331693 non-null  object        \n",
      " 28  time_delivery_h              2142424 non-null  float64       \n",
      " 29  time_shipment_h              2331693 non-null  float64       \n",
      " 30  order_completed_hour_of_day  2331693 non-null  object        \n",
      " 31  order_completed_day_of_week  2331693 non-null  object        \n",
      "dtypes: datetime64[ns](4), float64(17), int64(1), object(10)\n",
      "memory usage: 588.8+ MB\n"
     ]
    }
   ],
   "source": [
    "master.info(null_counts=True)"
   ]
  },
  {
   "cell_type": "code",
   "execution_count": 510,
   "metadata": {},
   "outputs": [
    {
     "data": {
      "text/html": [
       "<div>\n",
       "<style scoped>\n",
       "    .dataframe tbody tr th:only-of-type {\n",
       "        vertical-align: middle;\n",
       "    }\n",
       "\n",
       "    .dataframe tbody tr th {\n",
       "        vertical-align: top;\n",
       "    }\n",
       "\n",
       "    .dataframe thead th {\n",
       "        text-align: right;\n",
       "    }\n",
       "</style>\n",
       "<table border=\"1\" class=\"dataframe\">\n",
       "  <thead>\n",
       "    <tr style=\"text-align: right;\">\n",
       "      <th></th>\n",
       "      <th>shipment_id</th>\n",
       "      <th>total_receipt</th>\n",
       "      <th>discount</th>\n",
       "      <th>replaced</th>\n",
       "      <th>cancelled</th>\n",
       "      <th>shipped_item_count</th>\n",
       "      <th>user_id</th>\n",
       "      <th>ship_address_id</th>\n",
       "      <th>order_id</th>\n",
       "      <th>order_created_at</th>\n",
       "      <th>...</th>\n",
       "      <th>platform</th>\n",
       "      <th>os</th>\n",
       "      <th>shipped_at</th>\n",
       "      <th>id</th>\n",
       "      <th>phone_id</th>\n",
       "      <th>order_completed_month</th>\n",
       "      <th>time_delivery_h</th>\n",
       "      <th>time_shipment_h</th>\n",
       "      <th>order_completed_hour_of_day</th>\n",
       "      <th>order_completed_day_of_week</th>\n",
       "    </tr>\n",
       "  </thead>\n",
       "  <tbody>\n",
       "    <tr>\n",
       "      <th>0</th>\n",
       "      <td>178163.0</td>\n",
       "      <td>9250.090002</td>\n",
       "      <td>771.759991</td>\n",
       "      <td>0.0</td>\n",
       "      <td>7.0</td>\n",
       "      <td>31</td>\n",
       "      <td>4077.0</td>\n",
       "      <td>4058639.0</td>\n",
       "      <td>1291559.0</td>\n",
       "      <td>2017-05-10 10:16:41</td>\n",
       "      <td>...</td>\n",
       "      <td>web</td>\n",
       "      <td>windows</td>\n",
       "      <td>NaT</td>\n",
       "      <td>4058639.0</td>\n",
       "      <td>378928.0</td>\n",
       "      <td>March</td>\n",
       "      <td>NaN</td>\n",
       "      <td>0.0</td>\n",
       "      <td>11</td>\n",
       "      <td>Friday</td>\n",
       "    </tr>\n",
       "    <tr>\n",
       "      <th>1</th>\n",
       "      <td>273988.0</td>\n",
       "      <td>36924.060050</td>\n",
       "      <td>2152.390018</td>\n",
       "      <td>4.0</td>\n",
       "      <td>9.0</td>\n",
       "      <td>81</td>\n",
       "      <td>1880213.0</td>\n",
       "      <td>119282.0</td>\n",
       "      <td>2716025.0</td>\n",
       "      <td>2017-10-15 05:58:30</td>\n",
       "      <td>...</td>\n",
       "      <td>app</td>\n",
       "      <td>ios</td>\n",
       "      <td>2020-05-18 08:11:48</td>\n",
       "      <td>119282.0</td>\n",
       "      <td>54795.0</td>\n",
       "      <td>May</td>\n",
       "      <td>18.0</td>\n",
       "      <td>0.0</td>\n",
       "      <td>13</td>\n",
       "      <td>Sunday</td>\n",
       "    </tr>\n",
       "    <tr>\n",
       "      <th>2</th>\n",
       "      <td>322307.0</td>\n",
       "      <td>3579.300032</td>\n",
       "      <td>284.900002</td>\n",
       "      <td>0.0</td>\n",
       "      <td>1.0</td>\n",
       "      <td>24</td>\n",
       "      <td>11019.0</td>\n",
       "      <td>171906.0</td>\n",
       "      <td>2156687.0</td>\n",
       "      <td>2017-08-03 21:25:23</td>\n",
       "      <td>...</td>\n",
       "      <td>web</td>\n",
       "      <td>windows</td>\n",
       "      <td>2020-02-20 08:08:54</td>\n",
       "      <td>171906.0</td>\n",
       "      <td>78177.0</td>\n",
       "      <td>February</td>\n",
       "      <td>42.0</td>\n",
       "      <td>0.0</td>\n",
       "      <td>14</td>\n",
       "      <td>Tuesday</td>\n",
       "    </tr>\n",
       "    <tr>\n",
       "      <th>3</th>\n",
       "      <td>337809.0</td>\n",
       "      <td>8884.640038</td>\n",
       "      <td>543.239995</td>\n",
       "      <td>2.0</td>\n",
       "      <td>0.0</td>\n",
       "      <td>45</td>\n",
       "      <td>44708.0</td>\n",
       "      <td>166772.0</td>\n",
       "      <td>2895562.0</td>\n",
       "      <td>2017-12-01 13:10:12</td>\n",
       "      <td>...</td>\n",
       "      <td>web</td>\n",
       "      <td>linux</td>\n",
       "      <td>2020-05-06 06:52:10</td>\n",
       "      <td>166772.0</td>\n",
       "      <td>78172.0</td>\n",
       "      <td>May</td>\n",
       "      <td>18.0</td>\n",
       "      <td>0.0</td>\n",
       "      <td>12</td>\n",
       "      <td>Tuesday</td>\n",
       "    </tr>\n",
       "    <tr>\n",
       "      <th>4</th>\n",
       "      <td>351762.0</td>\n",
       "      <td>8297.440020</td>\n",
       "      <td>588.820007</td>\n",
       "      <td>0.0</td>\n",
       "      <td>0.0</td>\n",
       "      <td>54</td>\n",
       "      <td>53887.0</td>\n",
       "      <td>158025.0</td>\n",
       "      <td>2961482.0</td>\n",
       "      <td>2018-01-28 13:49:33</td>\n",
       "      <td>...</td>\n",
       "      <td>web</td>\n",
       "      <td>windows</td>\n",
       "      <td>2020-06-05 10:17:31</td>\n",
       "      <td>158025.0</td>\n",
       "      <td>78167.0</td>\n",
       "      <td>June</td>\n",
       "      <td>11.0</td>\n",
       "      <td>0.0</td>\n",
       "      <td>22</td>\n",
       "      <td>Thursday</td>\n",
       "    </tr>\n",
       "  </tbody>\n",
       "</table>\n",
       "<p>5 rows × 32 columns</p>\n",
       "</div>"
      ],
      "text/plain": [
       "   shipment_id  total_receipt     discount  replaced  cancelled  \\\n",
       "0     178163.0    9250.090002   771.759991       0.0        7.0   \n",
       "1     273988.0   36924.060050  2152.390018       4.0        9.0   \n",
       "2     322307.0    3579.300032   284.900002       0.0        1.0   \n",
       "3     337809.0    8884.640038   543.239995       2.0        0.0   \n",
       "4     351762.0    8297.440020   588.820007       0.0        0.0   \n",
       "\n",
       "   shipped_item_count    user_id  ship_address_id   order_id  \\\n",
       "0                  31     4077.0        4058639.0  1291559.0   \n",
       "1                  81  1880213.0         119282.0  2716025.0   \n",
       "2                  24    11019.0         171906.0  2156687.0   \n",
       "3                  45    44708.0         166772.0  2895562.0   \n",
       "4                  54    53887.0         158025.0  2961482.0   \n",
       "\n",
       "     order_created_at  ... platform       os          shipped_at         id  \\\n",
       "0 2017-05-10 10:16:41  ...      web  windows                 NaT  4058639.0   \n",
       "1 2017-10-15 05:58:30  ...      app      ios 2020-05-18 08:11:48   119282.0   \n",
       "2 2017-08-03 21:25:23  ...      web  windows 2020-02-20 08:08:54   171906.0   \n",
       "3 2017-12-01 13:10:12  ...      web    linux 2020-05-06 06:52:10   166772.0   \n",
       "4 2018-01-28 13:49:33  ...      web  windows 2020-06-05 10:17:31   158025.0   \n",
       "\n",
       "   phone_id order_completed_month  time_delivery_h  time_shipment_h  \\\n",
       "0  378928.0                 March              NaN              0.0   \n",
       "1   54795.0                   May             18.0              0.0   \n",
       "2   78177.0              February             42.0              0.0   \n",
       "3   78172.0                   May             18.0              0.0   \n",
       "4   78167.0                  June             11.0              0.0   \n",
       "\n",
       "   order_completed_hour_of_day order_completed_day_of_week  \n",
       "0                           11                      Friday  \n",
       "1                           13                      Sunday  \n",
       "2                           14                     Tuesday  \n",
       "3                           12                     Tuesday  \n",
       "4                           22                    Thursday  \n",
       "\n",
       "[5 rows x 32 columns]"
      ]
     },
     "execution_count": 510,
     "metadata": {},
     "output_type": "execute_result"
    }
   ],
   "source": [
    "master.head()"
   ]
  },
  {
   "cell_type": "code",
   "execution_count": 511,
   "metadata": {},
   "outputs": [],
   "source": [
    "# Drop data from Decemeber\n",
    "master_clean = master[master['order_completed_month'] != 'December']"
   ]
  },
  {
   "cell_type": "code",
   "execution_count": 512,
   "metadata": {},
   "outputs": [
    {
     "data": {
      "text/plain": [
       "May         456648\n",
       "August      441287\n",
       "July        434049\n",
       "June        430125\n",
       "April       265152\n",
       "March       160844\n",
       "February     82466\n",
       "January      61117\n",
       "Name: order_completed_month, dtype: int64"
      ]
     },
     "execution_count": 512,
     "metadata": {},
     "output_type": "execute_result"
    }
   ],
   "source": [
    "master_clean['order_completed_month'].value_counts()"
   ]
  },
  {
   "cell_type": "code",
   "execution_count": 513,
   "metadata": {},
   "outputs": [
    {
     "name": "stderr",
     "output_type": "stream",
     "text": [
      "/Users/aigerimshopenova/opt/anaconda3/envs/udacity_ds_nanodegree/lib/python3.7/site-packages/pandas/core/generic.py:6746: SettingWithCopyWarning: \n",
      "A value is trying to be set on a copy of a slice from a DataFrame\n",
      "\n",
      "See the caveats in the documentation: https://pandas.pydata.org/pandas-docs/stable/user_guide/indexing.html#returning-a-view-versus-a-copy\n",
      "  self._update_inplace(new_data)\n"
     ]
    }
   ],
   "source": [
    "master_clean['order_completed_day_of_week'].replace({'Monday': 1, 'Tuesday': 2, 'Wednesday': 3, \n",
    "                                                     'Thursday': 4, 'Friday': 5, 'Saturday': 6,\n",
    "                                                     'Sunday': 7}, inplace=True)"
   ]
  },
  {
   "cell_type": "code",
   "execution_count": 514,
   "metadata": {},
   "outputs": [
    {
     "data": {
      "text/plain": [
       "dtype('float64')"
      ]
     },
     "execution_count": 514,
     "metadata": {},
     "output_type": "execute_result"
    }
   ],
   "source": [
    "master_clean['order_completed_day_of_week'].dtype"
   ]
  },
  {
   "cell_type": "code",
   "execution_count": 515,
   "metadata": {},
   "outputs": [
    {
     "data": {
      "text/plain": [
       "5.0    364012\n",
       "4.0    361525\n",
       "6.0    346501\n",
       "7.0    327825\n",
       "1.0    317980\n",
       "3.0    308862\n",
       "2.0    304983\n",
       "Name: order_completed_day_of_week, dtype: int64"
      ]
     },
     "execution_count": 515,
     "metadata": {},
     "output_type": "execute_result"
    }
   ],
   "source": [
    "master_clean['order_completed_day_of_week'].value_counts()"
   ]
  },
  {
   "cell_type": "code",
   "execution_count": 516,
   "metadata": {},
   "outputs": [
    {
     "data": {
      "text/html": [
       "<div>\n",
       "<style scoped>\n",
       "    .dataframe tbody tr th:only-of-type {\n",
       "        vertical-align: middle;\n",
       "    }\n",
       "\n",
       "    .dataframe tbody tr th {\n",
       "        vertical-align: top;\n",
       "    }\n",
       "\n",
       "    .dataframe thead th {\n",
       "        text-align: right;\n",
       "    }\n",
       "</style>\n",
       "<table border=\"1\" class=\"dataframe\">\n",
       "  <thead>\n",
       "    <tr style=\"text-align: right;\">\n",
       "      <th></th>\n",
       "      <th>shipment_id</th>\n",
       "      <th>total_receipt</th>\n",
       "      <th>discount</th>\n",
       "      <th>replaced</th>\n",
       "      <th>cancelled</th>\n",
       "      <th>shipped_item_count</th>\n",
       "      <th>user_id</th>\n",
       "      <th>ship_address_id</th>\n",
       "      <th>order_id</th>\n",
       "      <th>order_created_at</th>\n",
       "      <th>...</th>\n",
       "      <th>platform</th>\n",
       "      <th>os</th>\n",
       "      <th>shipped_at</th>\n",
       "      <th>id</th>\n",
       "      <th>phone_id</th>\n",
       "      <th>order_completed_month</th>\n",
       "      <th>time_delivery_h</th>\n",
       "      <th>time_shipment_h</th>\n",
       "      <th>order_completed_hour_of_day</th>\n",
       "      <th>order_completed_day_of_week</th>\n",
       "    </tr>\n",
       "  </thead>\n",
       "  <tbody>\n",
       "    <tr>\n",
       "      <th>0</th>\n",
       "      <td>178163.0</td>\n",
       "      <td>9250.090002</td>\n",
       "      <td>771.759991</td>\n",
       "      <td>0.0</td>\n",
       "      <td>7.0</td>\n",
       "      <td>31</td>\n",
       "      <td>4077.0</td>\n",
       "      <td>4058639.0</td>\n",
       "      <td>1291559.0</td>\n",
       "      <td>2017-05-10 10:16:41</td>\n",
       "      <td>...</td>\n",
       "      <td>web</td>\n",
       "      <td>windows</td>\n",
       "      <td>NaT</td>\n",
       "      <td>4058639.0</td>\n",
       "      <td>378928.0</td>\n",
       "      <td>March</td>\n",
       "      <td>NaN</td>\n",
       "      <td>0.0</td>\n",
       "      <td>11</td>\n",
       "      <td>5.0</td>\n",
       "    </tr>\n",
       "    <tr>\n",
       "      <th>1</th>\n",
       "      <td>273988.0</td>\n",
       "      <td>36924.060050</td>\n",
       "      <td>2152.390018</td>\n",
       "      <td>4.0</td>\n",
       "      <td>9.0</td>\n",
       "      <td>81</td>\n",
       "      <td>1880213.0</td>\n",
       "      <td>119282.0</td>\n",
       "      <td>2716025.0</td>\n",
       "      <td>2017-10-15 05:58:30</td>\n",
       "      <td>...</td>\n",
       "      <td>app</td>\n",
       "      <td>ios</td>\n",
       "      <td>2020-05-18 08:11:48</td>\n",
       "      <td>119282.0</td>\n",
       "      <td>54795.0</td>\n",
       "      <td>May</td>\n",
       "      <td>18.0</td>\n",
       "      <td>0.0</td>\n",
       "      <td>13</td>\n",
       "      <td>7.0</td>\n",
       "    </tr>\n",
       "    <tr>\n",
       "      <th>2</th>\n",
       "      <td>322307.0</td>\n",
       "      <td>3579.300032</td>\n",
       "      <td>284.900002</td>\n",
       "      <td>0.0</td>\n",
       "      <td>1.0</td>\n",
       "      <td>24</td>\n",
       "      <td>11019.0</td>\n",
       "      <td>171906.0</td>\n",
       "      <td>2156687.0</td>\n",
       "      <td>2017-08-03 21:25:23</td>\n",
       "      <td>...</td>\n",
       "      <td>web</td>\n",
       "      <td>windows</td>\n",
       "      <td>2020-02-20 08:08:54</td>\n",
       "      <td>171906.0</td>\n",
       "      <td>78177.0</td>\n",
       "      <td>February</td>\n",
       "      <td>42.0</td>\n",
       "      <td>0.0</td>\n",
       "      <td>14</td>\n",
       "      <td>2.0</td>\n",
       "    </tr>\n",
       "    <tr>\n",
       "      <th>3</th>\n",
       "      <td>337809.0</td>\n",
       "      <td>8884.640038</td>\n",
       "      <td>543.239995</td>\n",
       "      <td>2.0</td>\n",
       "      <td>0.0</td>\n",
       "      <td>45</td>\n",
       "      <td>44708.0</td>\n",
       "      <td>166772.0</td>\n",
       "      <td>2895562.0</td>\n",
       "      <td>2017-12-01 13:10:12</td>\n",
       "      <td>...</td>\n",
       "      <td>web</td>\n",
       "      <td>linux</td>\n",
       "      <td>2020-05-06 06:52:10</td>\n",
       "      <td>166772.0</td>\n",
       "      <td>78172.0</td>\n",
       "      <td>May</td>\n",
       "      <td>18.0</td>\n",
       "      <td>0.0</td>\n",
       "      <td>12</td>\n",
       "      <td>2.0</td>\n",
       "    </tr>\n",
       "    <tr>\n",
       "      <th>4</th>\n",
       "      <td>351762.0</td>\n",
       "      <td>8297.440020</td>\n",
       "      <td>588.820007</td>\n",
       "      <td>0.0</td>\n",
       "      <td>0.0</td>\n",
       "      <td>54</td>\n",
       "      <td>53887.0</td>\n",
       "      <td>158025.0</td>\n",
       "      <td>2961482.0</td>\n",
       "      <td>2018-01-28 13:49:33</td>\n",
       "      <td>...</td>\n",
       "      <td>web</td>\n",
       "      <td>windows</td>\n",
       "      <td>2020-06-05 10:17:31</td>\n",
       "      <td>158025.0</td>\n",
       "      <td>78167.0</td>\n",
       "      <td>June</td>\n",
       "      <td>11.0</td>\n",
       "      <td>0.0</td>\n",
       "      <td>22</td>\n",
       "      <td>4.0</td>\n",
       "    </tr>\n",
       "  </tbody>\n",
       "</table>\n",
       "<p>5 rows × 32 columns</p>\n",
       "</div>"
      ],
      "text/plain": [
       "   shipment_id  total_receipt     discount  replaced  cancelled  \\\n",
       "0     178163.0    9250.090002   771.759991       0.0        7.0   \n",
       "1     273988.0   36924.060050  2152.390018       4.0        9.0   \n",
       "2     322307.0    3579.300032   284.900002       0.0        1.0   \n",
       "3     337809.0    8884.640038   543.239995       2.0        0.0   \n",
       "4     351762.0    8297.440020   588.820007       0.0        0.0   \n",
       "\n",
       "   shipped_item_count    user_id  ship_address_id   order_id  \\\n",
       "0                  31     4077.0        4058639.0  1291559.0   \n",
       "1                  81  1880213.0         119282.0  2716025.0   \n",
       "2                  24    11019.0         171906.0  2156687.0   \n",
       "3                  45    44708.0         166772.0  2895562.0   \n",
       "4                  54    53887.0         158025.0  2961482.0   \n",
       "\n",
       "     order_created_at  ... platform       os          shipped_at         id  \\\n",
       "0 2017-05-10 10:16:41  ...      web  windows                 NaT  4058639.0   \n",
       "1 2017-10-15 05:58:30  ...      app      ios 2020-05-18 08:11:48   119282.0   \n",
       "2 2017-08-03 21:25:23  ...      web  windows 2020-02-20 08:08:54   171906.0   \n",
       "3 2017-12-01 13:10:12  ...      web    linux 2020-05-06 06:52:10   166772.0   \n",
       "4 2018-01-28 13:49:33  ...      web  windows 2020-06-05 10:17:31   158025.0   \n",
       "\n",
       "   phone_id order_completed_month  time_delivery_h  time_shipment_h  \\\n",
       "0  378928.0                 March              NaN              0.0   \n",
       "1   54795.0                   May             18.0              0.0   \n",
       "2   78177.0              February             42.0              0.0   \n",
       "3   78172.0                   May             18.0              0.0   \n",
       "4   78167.0                  June             11.0              0.0   \n",
       "\n",
       "   order_completed_hour_of_day order_completed_day_of_week  \n",
       "0                           11                         5.0  \n",
       "1                           13                         7.0  \n",
       "2                           14                         2.0  \n",
       "3                           12                         2.0  \n",
       "4                           22                         4.0  \n",
       "\n",
       "[5 rows x 32 columns]"
      ]
     },
     "execution_count": 516,
     "metadata": {},
     "output_type": "execute_result"
    }
   ],
   "source": [
    "master_clean.head()"
   ]
  },
  {
   "cell_type": "code",
   "execution_count": 517,
   "metadata": {},
   "outputs": [
    {
     "data": {
      "text/plain": [
       "Index(['shipment_id', 'total_receipt', 'discount', 'replaced', 'cancelled',\n",
       "       'shipped_item_count', 'user_id', 'ship_address_id', 'order_id',\n",
       "       'order_created_at', 'order_completed_at', 'shipment_starts_at',\n",
       "       'retailer', 's.order_state', 'shipment_state', 's.city_name',\n",
       "       's.store_id', 'total_cost', 'rate', 'dw_kind', 'promo_total',\n",
       "       'total_weight', 'platform', 'os', 'shipped_at', 'id', 'phone_id',\n",
       "       'order_completed_month', 'time_delivery_h', 'time_shipment_h',\n",
       "       'order_completed_hour_of_day', 'order_completed_day_of_week'],\n",
       "      dtype='object')"
      ]
     },
     "execution_count": 517,
     "metadata": {},
     "output_type": "execute_result"
    }
   ],
   "source": [
    "master_clean.columns"
   ]
  },
  {
   "cell_type": "code",
   "execution_count": 518,
   "metadata": {},
   "outputs": [
    {
     "data": {
      "text/plain": [
       "ios        956421\n",
       "android    897567\n",
       "windows    374178\n",
       "mac         66067\n",
       "other       28058\n",
       "linux        9351\n",
       "Name: os, dtype: int64"
      ]
     },
     "execution_count": 518,
     "metadata": {},
     "output_type": "execute_result"
    }
   ],
   "source": [
    "master_clean['os'].value_counts()"
   ]
  },
  {
   "cell_type": "code",
   "execution_count": 519,
   "metadata": {},
   "outputs": [
    {
     "data": {
      "text/plain": [
       "app    1812886\n",
       "web     518756\n",
       "Name: platform, dtype: int64"
      ]
     },
     "execution_count": 519,
     "metadata": {},
     "output_type": "execute_result"
    }
   ],
   "source": [
    "master_clean['platform'].value_counts()"
   ]
  },
  {
   "cell_type": "code",
   "execution_count": 520,
   "metadata": {},
   "outputs": [
    {
     "name": "stderr",
     "output_type": "stream",
     "text": [
      "/Users/aigerimshopenova/opt/anaconda3/envs/udacity_ds_nanodegree/lib/python3.7/site-packages/pandas/core/generic.py:6746: SettingWithCopyWarning: \n",
      "A value is trying to be set on a copy of a slice from a DataFrame\n",
      "\n",
      "See the caveats in the documentation: https://pandas.pydata.org/pandas-docs/stable/user_guide/indexing.html#returning-a-view-versus-a-copy\n",
      "  self._update_inplace(new_data)\n"
     ]
    }
   ],
   "source": [
    "# Replace ios = 1, android = 2, windows = 3, mac = 4, linux = 5, other = 6\n",
    "master_clean['os'].replace({'ios': 1, 'android': 2, 'windows': 3, 'mac': 4, 'linux': 5, 'other': 6}, inplace=True)"
   ]
  },
  {
   "cell_type": "code",
   "execution_count": 521,
   "metadata": {},
   "outputs": [],
   "source": [
    "# Replace platform app=1, web=2\n",
    "master_clean['platform'].replace({'app': 1, 'web': 2}, inplace=True)"
   ]
  },
  {
   "cell_type": "code",
   "execution_count": 522,
   "metadata": {},
   "outputs": [],
   "source": [
    "# Replace dw_kind \n",
    "master_clean['dw_kind'].replace({'courier': 1, 'pickup': 2, 'express_delivery':3}, inplace=True)"
   ]
  },
  {
   "cell_type": "code",
   "execution_count": 523,
   "metadata": {},
   "outputs": [
    {
     "data": {
      "text/plain": [
       "1.0    956421\n",
       "2.0    897567\n",
       "3.0    374178\n",
       "4.0     66067\n",
       "6.0     28058\n",
       "5.0      9351\n",
       "Name: os, dtype: int64"
      ]
     },
     "execution_count": 523,
     "metadata": {},
     "output_type": "execute_result"
    }
   ],
   "source": [
    "master_clean['os'].value_counts()"
   ]
  },
  {
   "cell_type": "code",
   "execution_count": 524,
   "metadata": {},
   "outputs": [
    {
     "data": {
      "text/plain": [
       "1.0    1812886\n",
       "2.0     518756\n",
       "Name: platform, dtype: int64"
      ]
     },
     "execution_count": 524,
     "metadata": {},
     "output_type": "execute_result"
    }
   ],
   "source": [
    "master_clean['platform'].value_counts()"
   ]
  },
  {
   "cell_type": "code",
   "execution_count": 525,
   "metadata": {},
   "outputs": [
    {
     "data": {
      "text/plain": [
       "1.0    2323255\n",
       "2.0       6423\n",
       "3.0       2010\n",
       "Name: dw_kind, dtype: int64"
      ]
     },
     "execution_count": 525,
     "metadata": {},
     "output_type": "execute_result"
    }
   ],
   "source": [
    "master_clean['dw_kind'].value_counts()"
   ]
  },
  {
   "cell_type": "code",
   "execution_count": 526,
   "metadata": {},
   "outputs": [
    {
     "name": "stdout",
     "output_type": "stream",
     "text": [
      "<class 'pandas.core.frame.DataFrame'>\n",
      "Int64Index: 2338532 entries, 0 to 2338536\n",
      "Data columns (total 32 columns):\n",
      " #   Column                       Non-Null Count    Dtype         \n",
      "---  ------                       --------------    -----         \n",
      " 0   shipment_id                  2338532 non-null  float64       \n",
      " 1   total_receipt                2338532 non-null  float64       \n",
      " 2   discount                     2338532 non-null  float64       \n",
      " 3   replaced                     2338532 non-null  float64       \n",
      " 4   cancelled                    2338532 non-null  float64       \n",
      " 5   shipped_item_count           2338532 non-null  int64         \n",
      " 6   user_id                      2331688 non-null  float64       \n",
      " 7   ship_address_id              2331688 non-null  float64       \n",
      " 8   order_id                     2331688 non-null  float64       \n",
      " 9   order_created_at             2331688 non-null  datetime64[ns]\n",
      " 10  order_completed_at           2331688 non-null  datetime64[ns]\n",
      " 11  shipment_starts_at           2331688 non-null  datetime64[ns]\n",
      " 12  retailer                     2331688 non-null  object        \n",
      " 13  s.order_state                2331688 non-null  object        \n",
      " 14  shipment_state               2324268 non-null  object        \n",
      " 15  s.city_name                  2331688 non-null  object        \n",
      " 16  s.store_id                   2331688 non-null  float64       \n",
      " 17  total_cost                   2331688 non-null  float64       \n",
      " 18  rate                         2331688 non-null  float64       \n",
      " 19  dw_kind                      2331688 non-null  float64       \n",
      " 20  promo_total                  2331688 non-null  float64       \n",
      " 21  total_weight                 2331688 non-null  float64       \n",
      " 22  platform                     2331642 non-null  float64       \n",
      " 23  os                           2331642 non-null  float64       \n",
      " 24  shipped_at                   2142421 non-null  datetime64[ns]\n",
      " 25  id                           2331688 non-null  float64       \n",
      " 26  phone_id                     2331688 non-null  float64       \n",
      " 27  order_completed_month        2331688 non-null  object        \n",
      " 28  time_delivery_h              2142421 non-null  float64       \n",
      " 29  time_shipment_h              2331688 non-null  float64       \n",
      " 30  order_completed_hour_of_day  2331688 non-null  object        \n",
      " 31  order_completed_day_of_week  2331688 non-null  float64       \n",
      "dtypes: datetime64[ns](4), float64(21), int64(1), object(6)\n",
      "memory usage: 588.8+ MB\n"
     ]
    }
   ],
   "source": [
    "master_clean.info(null_counts=True)"
   ]
  },
  {
   "cell_type": "code",
   "execution_count": 527,
   "metadata": {},
   "outputs": [
    {
     "data": {
      "text/plain": [
       "shipped          2142596\n",
       "canceled          179066\n",
       "collecting           862\n",
       "ready                801\n",
       "ready_to_ship        583\n",
       "shipping             330\n",
       "pending               30\n",
       "Name: shipment_state, dtype: int64"
      ]
     },
     "execution_count": 527,
     "metadata": {},
     "output_type": "execute_result"
    }
   ],
   "source": [
    "master_clean['shipment_state'].value_counts()"
   ]
  },
  {
   "cell_type": "code",
   "execution_count": 528,
   "metadata": {},
   "outputs": [
    {
     "data": {
      "text/plain": [
       "5.0    1253391\n",
       "0.0     902048\n",
       "4.0     106699\n",
       "3.0      39083\n",
       "1.0      20210\n",
       "2.0      10257\n",
       "Name: rate, dtype: int64"
      ]
     },
     "execution_count": 528,
     "metadata": {},
     "output_type": "execute_result"
    }
   ],
   "source": [
    "master_clean['rate'].value_counts()"
   ]
  },
  {
   "cell_type": "code",
   "execution_count": 529,
   "metadata": {},
   "outputs": [],
   "source": [
    "# Change shipment_state cancelled = 0, pending=0, shipped and others = 1\n",
    "master_clean['shipment_state'].replace({'canceled': 0, 'shipped': 1, 'collecting': 1,\n",
    "                                       'ready': 1, 'ready_to_ship': 1, \n",
    "                                       'shipping': 1, 'pending': 0}, inplace=True)"
   ]
  },
  {
   "cell_type": "code",
   "execution_count": 530,
   "metadata": {},
   "outputs": [
    {
     "data": {
      "text/plain": [
       "1.0    2145172\n",
       "0.0     179096\n",
       "Name: shipment_state, dtype: int64"
      ]
     },
     "execution_count": 530,
     "metadata": {},
     "output_type": "execute_result"
    }
   ],
   "source": [
    "master_clean['shipment_state'].value_counts()"
   ]
  },
  {
   "cell_type": "code",
   "execution_count": 531,
   "metadata": {},
   "outputs": [
    {
     "name": "stderr",
     "output_type": "stream",
     "text": [
      "/Users/aigerimshopenova/opt/anaconda3/envs/udacity_ds_nanodegree/lib/python3.7/site-packages/ipykernel_launcher.py:1: SettingWithCopyWarning: \n",
      "A value is trying to be set on a copy of a slice from a DataFrame.\n",
      "Try using .loc[row_indexer,col_indexer] = value instead\n",
      "\n",
      "See the caveats in the documentation: https://pandas.pydata.org/pandas-docs/stable/user_guide/indexing.html#returning-a-view-versus-a-copy\n",
      "  \"\"\"Entry point for launching an IPython kernel.\n"
     ]
    }
   ],
   "source": [
    "master_clean['month_order_completed_tr'] = pd.to_datetime(master_clean['order_completed_at']).dt.to_period('M')"
   ]
  },
  {
   "cell_type": "code",
   "execution_count": 532,
   "metadata": {},
   "outputs": [
    {
     "data": {
      "text/html": [
       "<div>\n",
       "<style scoped>\n",
       "    .dataframe tbody tr th:only-of-type {\n",
       "        vertical-align: middle;\n",
       "    }\n",
       "\n",
       "    .dataframe tbody tr th {\n",
       "        vertical-align: top;\n",
       "    }\n",
       "\n",
       "    .dataframe thead th {\n",
       "        text-align: right;\n",
       "    }\n",
       "</style>\n",
       "<table border=\"1\" class=\"dataframe\">\n",
       "  <thead>\n",
       "    <tr style=\"text-align: right;\">\n",
       "      <th></th>\n",
       "      <th>shipment_id</th>\n",
       "      <th>total_receipt</th>\n",
       "      <th>discount</th>\n",
       "      <th>replaced</th>\n",
       "      <th>cancelled</th>\n",
       "      <th>shipped_item_count</th>\n",
       "      <th>user_id</th>\n",
       "      <th>ship_address_id</th>\n",
       "      <th>order_id</th>\n",
       "      <th>order_created_at</th>\n",
       "      <th>...</th>\n",
       "      <th>os</th>\n",
       "      <th>shipped_at</th>\n",
       "      <th>id</th>\n",
       "      <th>phone_id</th>\n",
       "      <th>order_completed_month</th>\n",
       "      <th>time_delivery_h</th>\n",
       "      <th>time_shipment_h</th>\n",
       "      <th>order_completed_hour_of_day</th>\n",
       "      <th>order_completed_day_of_week</th>\n",
       "      <th>month_order_completed_tr</th>\n",
       "    </tr>\n",
       "  </thead>\n",
       "  <tbody>\n",
       "    <tr>\n",
       "      <th>0</th>\n",
       "      <td>178163.0</td>\n",
       "      <td>9250.090002</td>\n",
       "      <td>771.759991</td>\n",
       "      <td>0.0</td>\n",
       "      <td>7.0</td>\n",
       "      <td>31</td>\n",
       "      <td>4077.0</td>\n",
       "      <td>4058639.0</td>\n",
       "      <td>1291559.0</td>\n",
       "      <td>2017-05-10 10:16:41</td>\n",
       "      <td>...</td>\n",
       "      <td>3.0</td>\n",
       "      <td>NaT</td>\n",
       "      <td>4058639.0</td>\n",
       "      <td>378928.0</td>\n",
       "      <td>March</td>\n",
       "      <td>NaN</td>\n",
       "      <td>0.0</td>\n",
       "      <td>11</td>\n",
       "      <td>5.0</td>\n",
       "      <td>2020-03</td>\n",
       "    </tr>\n",
       "    <tr>\n",
       "      <th>1</th>\n",
       "      <td>273988.0</td>\n",
       "      <td>36924.060050</td>\n",
       "      <td>2152.390018</td>\n",
       "      <td>4.0</td>\n",
       "      <td>9.0</td>\n",
       "      <td>81</td>\n",
       "      <td>1880213.0</td>\n",
       "      <td>119282.0</td>\n",
       "      <td>2716025.0</td>\n",
       "      <td>2017-10-15 05:58:30</td>\n",
       "      <td>...</td>\n",
       "      <td>1.0</td>\n",
       "      <td>2020-05-18 08:11:48</td>\n",
       "      <td>119282.0</td>\n",
       "      <td>54795.0</td>\n",
       "      <td>May</td>\n",
       "      <td>18.0</td>\n",
       "      <td>0.0</td>\n",
       "      <td>13</td>\n",
       "      <td>7.0</td>\n",
       "      <td>2020-05</td>\n",
       "    </tr>\n",
       "    <tr>\n",
       "      <th>2</th>\n",
       "      <td>322307.0</td>\n",
       "      <td>3579.300032</td>\n",
       "      <td>284.900002</td>\n",
       "      <td>0.0</td>\n",
       "      <td>1.0</td>\n",
       "      <td>24</td>\n",
       "      <td>11019.0</td>\n",
       "      <td>171906.0</td>\n",
       "      <td>2156687.0</td>\n",
       "      <td>2017-08-03 21:25:23</td>\n",
       "      <td>...</td>\n",
       "      <td>3.0</td>\n",
       "      <td>2020-02-20 08:08:54</td>\n",
       "      <td>171906.0</td>\n",
       "      <td>78177.0</td>\n",
       "      <td>February</td>\n",
       "      <td>42.0</td>\n",
       "      <td>0.0</td>\n",
       "      <td>14</td>\n",
       "      <td>2.0</td>\n",
       "      <td>2020-02</td>\n",
       "    </tr>\n",
       "    <tr>\n",
       "      <th>3</th>\n",
       "      <td>337809.0</td>\n",
       "      <td>8884.640038</td>\n",
       "      <td>543.239995</td>\n",
       "      <td>2.0</td>\n",
       "      <td>0.0</td>\n",
       "      <td>45</td>\n",
       "      <td>44708.0</td>\n",
       "      <td>166772.0</td>\n",
       "      <td>2895562.0</td>\n",
       "      <td>2017-12-01 13:10:12</td>\n",
       "      <td>...</td>\n",
       "      <td>5.0</td>\n",
       "      <td>2020-05-06 06:52:10</td>\n",
       "      <td>166772.0</td>\n",
       "      <td>78172.0</td>\n",
       "      <td>May</td>\n",
       "      <td>18.0</td>\n",
       "      <td>0.0</td>\n",
       "      <td>12</td>\n",
       "      <td>2.0</td>\n",
       "      <td>2020-05</td>\n",
       "    </tr>\n",
       "    <tr>\n",
       "      <th>4</th>\n",
       "      <td>351762.0</td>\n",
       "      <td>8297.440020</td>\n",
       "      <td>588.820007</td>\n",
       "      <td>0.0</td>\n",
       "      <td>0.0</td>\n",
       "      <td>54</td>\n",
       "      <td>53887.0</td>\n",
       "      <td>158025.0</td>\n",
       "      <td>2961482.0</td>\n",
       "      <td>2018-01-28 13:49:33</td>\n",
       "      <td>...</td>\n",
       "      <td>3.0</td>\n",
       "      <td>2020-06-05 10:17:31</td>\n",
       "      <td>158025.0</td>\n",
       "      <td>78167.0</td>\n",
       "      <td>June</td>\n",
       "      <td>11.0</td>\n",
       "      <td>0.0</td>\n",
       "      <td>22</td>\n",
       "      <td>4.0</td>\n",
       "      <td>2020-06</td>\n",
       "    </tr>\n",
       "  </tbody>\n",
       "</table>\n",
       "<p>5 rows × 33 columns</p>\n",
       "</div>"
      ],
      "text/plain": [
       "   shipment_id  total_receipt     discount  replaced  cancelled  \\\n",
       "0     178163.0    9250.090002   771.759991       0.0        7.0   \n",
       "1     273988.0   36924.060050  2152.390018       4.0        9.0   \n",
       "2     322307.0    3579.300032   284.900002       0.0        1.0   \n",
       "3     337809.0    8884.640038   543.239995       2.0        0.0   \n",
       "4     351762.0    8297.440020   588.820007       0.0        0.0   \n",
       "\n",
       "   shipped_item_count    user_id  ship_address_id   order_id  \\\n",
       "0                  31     4077.0        4058639.0  1291559.0   \n",
       "1                  81  1880213.0         119282.0  2716025.0   \n",
       "2                  24    11019.0         171906.0  2156687.0   \n",
       "3                  45    44708.0         166772.0  2895562.0   \n",
       "4                  54    53887.0         158025.0  2961482.0   \n",
       "\n",
       "     order_created_at  ...   os          shipped_at         id  phone_id  \\\n",
       "0 2017-05-10 10:16:41  ...  3.0                 NaT  4058639.0  378928.0   \n",
       "1 2017-10-15 05:58:30  ...  1.0 2020-05-18 08:11:48   119282.0   54795.0   \n",
       "2 2017-08-03 21:25:23  ...  3.0 2020-02-20 08:08:54   171906.0   78177.0   \n",
       "3 2017-12-01 13:10:12  ...  5.0 2020-05-06 06:52:10   166772.0   78172.0   \n",
       "4 2018-01-28 13:49:33  ...  3.0 2020-06-05 10:17:31   158025.0   78167.0   \n",
       "\n",
       "   order_completed_month time_delivery_h  time_shipment_h  \\\n",
       "0                  March             NaN              0.0   \n",
       "1                    May            18.0              0.0   \n",
       "2               February            42.0              0.0   \n",
       "3                    May            18.0              0.0   \n",
       "4                   June            11.0              0.0   \n",
       "\n",
       "   order_completed_hour_of_day  order_completed_day_of_week  \\\n",
       "0                           11                          5.0   \n",
       "1                           13                          7.0   \n",
       "2                           14                          2.0   \n",
       "3                           12                          2.0   \n",
       "4                           22                          4.0   \n",
       "\n",
       "   month_order_completed_tr  \n",
       "0                   2020-03  \n",
       "1                   2020-05  \n",
       "2                   2020-02  \n",
       "3                   2020-05  \n",
       "4                   2020-06  \n",
       "\n",
       "[5 rows x 33 columns]"
      ]
     },
     "execution_count": 532,
     "metadata": {},
     "output_type": "execute_result"
    }
   ],
   "source": [
    "master_clean.head()"
   ]
  },
  {
   "cell_type": "code",
   "execution_count": 533,
   "metadata": {},
   "outputs": [
    {
     "data": {
      "text/plain": [
       "09    171715\n",
       "10    170440\n",
       "11    166818\n",
       "08    165592\n",
       "12    154077\n",
       "07    150343\n",
       "13    141808\n",
       "14    132793\n",
       "06    126716\n",
       "15    115417\n",
       "16    107427\n",
       "17    103262\n",
       "18     99872\n",
       "05     96183\n",
       "19     94784\n",
       "20     78088\n",
       "04     63212\n",
       "21     51182\n",
       "03     39312\n",
       "22     29336\n",
       "02     23610\n",
       "23     20266\n",
       "01     15638\n",
       "00     13797\n",
       "Name: order_completed_hour_of_day, dtype: int64"
      ]
     },
     "execution_count": 533,
     "metadata": {},
     "output_type": "execute_result"
    }
   ],
   "source": [
    "master_clean['order_completed_hour_of_day'].value_counts()"
   ]
  },
  {
   "cell_type": "markdown",
   "metadata": {},
   "source": [
    "Not the best approach, but it works 😅"
   ]
  },
  {
   "cell_type": "code",
   "execution_count": 534,
   "metadata": {},
   "outputs": [
    {
     "name": "stderr",
     "output_type": "stream",
     "text": [
      "/Users/aigerimshopenova/opt/anaconda3/envs/udacity_ds_nanodegree/lib/python3.7/site-packages/pandas/core/generic.py:6746: SettingWithCopyWarning: \n",
      "A value is trying to be set on a copy of a slice from a DataFrame\n",
      "\n",
      "See the caveats in the documentation: https://pandas.pydata.org/pandas-docs/stable/user_guide/indexing.html#returning-a-view-versus-a-copy\n",
      "  self._update_inplace(new_data)\n"
     ]
    }
   ],
   "source": [
    "master_clean['order_completed_hour_of_day'].replace({'00': 0,\n",
    "                                                     '01': 1, \n",
    "                                                     '02': 2,\n",
    "                                                     '03': 3,\n",
    "                                                     '04': 4,\n",
    "                                                     '05': 5,\n",
    "                                                     '06': 6,\n",
    "                                                     '07': 7,\n",
    "                                                     '08': 8,\n",
    "                                                     '09': 9,\n",
    "                                                     '10': 10,\n",
    "                                                     '11': 11,\n",
    "                                                     '12': 12,\n",
    "                                                     '13': 13, \n",
    "                                                     '14': 14, \n",
    "                                                     '15': 15, \n",
    "                                                     '16': 16,\n",
    "                                                     '17': 17,\n",
    "                                                     '18': 18,\n",
    "                                                     '19': 19,\n",
    "                                                     '20': 20,\n",
    "                                                     '21': 21,\n",
    "                                                     '22': 22,\n",
    "                                                     '23': 23,\n",
    "                                                     '24': 24}, inplace=True)"
   ]
  },
  {
   "cell_type": "code",
   "execution_count": 535,
   "metadata": {},
   "outputs": [
    {
     "data": {
      "text/plain": [
       "dtype('float64')"
      ]
     },
     "execution_count": 535,
     "metadata": {},
     "output_type": "execute_result"
    }
   ],
   "source": [
    "master_clean['order_completed_hour_of_day'].dtype"
   ]
  },
  {
   "cell_type": "code",
   "execution_count": 536,
   "metadata": {},
   "outputs": [
    {
     "data": {
      "text/plain": [
       "9.0     171715\n",
       "10.0    170440\n",
       "11.0    166818\n",
       "8.0     165592\n",
       "12.0    154077\n",
       "7.0     150343\n",
       "13.0    141808\n",
       "14.0    132793\n",
       "6.0     126716\n",
       "15.0    115417\n",
       "16.0    107427\n",
       "17.0    103262\n",
       "18.0     99872\n",
       "5.0      96183\n",
       "19.0     94784\n",
       "20.0     78088\n",
       "4.0      63212\n",
       "21.0     51182\n",
       "3.0      39312\n",
       "22.0     29336\n",
       "2.0      23610\n",
       "23.0     20266\n",
       "1.0      15638\n",
       "0.0      13797\n",
       "Name: order_completed_hour_of_day, dtype: int64"
      ]
     },
     "execution_count": 536,
     "metadata": {},
     "output_type": "execute_result"
    }
   ],
   "source": [
    "master_clean['order_completed_hour_of_day'].value_counts()"
   ]
  },
  {
   "cell_type": "code",
   "execution_count": 537,
   "metadata": {},
   "outputs": [
    {
     "data": {
      "text/plain": [
       "dtype('float64')"
      ]
     },
     "execution_count": 537,
     "metadata": {},
     "output_type": "execute_result"
    }
   ],
   "source": [
    "master_clean['order_completed_day_of_week'].dtype"
   ]
  },
  {
   "cell_type": "code",
   "execution_count": 538,
   "metadata": {},
   "outputs": [
    {
     "data": {
      "text/plain": [
       "5.0    364012\n",
       "4.0    361525\n",
       "6.0    346501\n",
       "7.0    327825\n",
       "1.0    317980\n",
       "3.0    308862\n",
       "2.0    304983\n",
       "Name: order_completed_day_of_week, dtype: int64"
      ]
     },
     "execution_count": 538,
     "metadata": {},
     "output_type": "execute_result"
    }
   ],
   "source": [
    "master_clean['order_completed_day_of_week'].value_counts()"
   ]
  },
  {
   "cell_type": "code",
   "execution_count": 539,
   "metadata": {},
   "outputs": [
    {
     "data": {
      "text/plain": [
       "5.0    1253391\n",
       "0.0     902048\n",
       "4.0     106699\n",
       "3.0      39083\n",
       "1.0      20210\n",
       "2.0      10257\n",
       "Name: rate, dtype: int64"
      ]
     },
     "execution_count": 539,
     "metadata": {},
     "output_type": "execute_result"
    }
   ],
   "source": [
    "master_clean['rate'].value_counts()"
   ]
  },
  {
   "cell_type": "code",
   "execution_count": 540,
   "metadata": {},
   "outputs": [
    {
     "data": {
      "text/plain": [
       "dtype('float64')"
      ]
     },
     "execution_count": 540,
     "metadata": {},
     "output_type": "execute_result"
    }
   ],
   "source": [
    "master_clean['rate'].dtype"
   ]
  },
  {
   "cell_type": "code",
   "execution_count": 541,
   "metadata": {},
   "outputs": [],
   "source": [
    "rate = master_clean[master_clean['rate'] != 0.0]"
   ]
  },
  {
   "cell_type": "code",
   "execution_count": 542,
   "metadata": {},
   "outputs": [
    {
     "name": "stdout",
     "output_type": "stream",
     "text": [
      "<class 'pandas.core.frame.DataFrame'>\n",
      "Int64Index: 1436484 entries, 8 to 2338260\n",
      "Data columns (total 33 columns):\n",
      " #   Column                       Non-Null Count    Dtype         \n",
      "---  ------                       --------------    -----         \n",
      " 0   shipment_id                  1436484 non-null  float64       \n",
      " 1   total_receipt                1436484 non-null  float64       \n",
      " 2   discount                     1436484 non-null  float64       \n",
      " 3   replaced                     1436484 non-null  float64       \n",
      " 4   cancelled                    1436484 non-null  float64       \n",
      " 5   shipped_item_count           1436484 non-null  int64         \n",
      " 6   user_id                      1429640 non-null  float64       \n",
      " 7   ship_address_id              1429640 non-null  float64       \n",
      " 8   order_id                     1429640 non-null  float64       \n",
      " 9   order_created_at             1429640 non-null  datetime64[ns]\n",
      " 10  order_completed_at           1429640 non-null  datetime64[ns]\n",
      " 11  shipment_starts_at           1429640 non-null  datetime64[ns]\n",
      " 12  retailer                     1429640 non-null  object        \n",
      " 13  s.order_state                1429640 non-null  object        \n",
      " 14  shipment_state               1429640 non-null  float64       \n",
      " 15  s.city_name                  1429640 non-null  object        \n",
      " 16  s.store_id                   1429640 non-null  float64       \n",
      " 17  total_cost                   1429640 non-null  float64       \n",
      " 18  rate                         1429640 non-null  float64       \n",
      " 19  dw_kind                      1429640 non-null  float64       \n",
      " 20  promo_total                  1429640 non-null  float64       \n",
      " 21  total_weight                 1429640 non-null  float64       \n",
      " 22  platform                     1429614 non-null  float64       \n",
      " 23  os                           1429614 non-null  float64       \n",
      " 24  shipped_at                   1429524 non-null  datetime64[ns]\n",
      " 25  id                           1429640 non-null  float64       \n",
      " 26  phone_id                     1429640 non-null  float64       \n",
      " 27  order_completed_month        1429640 non-null  object        \n",
      " 28  time_delivery_h              1429524 non-null  float64       \n",
      " 29  time_shipment_h              1429640 non-null  float64       \n",
      " 30  order_completed_hour_of_day  1429640 non-null  float64       \n",
      " 31  order_completed_day_of_week  1429640 non-null  float64       \n",
      " 32  month_order_completed_tr     1429640 non-null  period[M]     \n",
      "dtypes: datetime64[ns](4), float64(23), int64(1), object(4), period[M](1)\n",
      "memory usage: 372.6+ MB\n"
     ]
    }
   ],
   "source": [
    "rate.info()"
   ]
  },
  {
   "cell_type": "code",
   "execution_count": 543,
   "metadata": {},
   "outputs": [],
   "source": [
    "rate_agg = rate.groupby(['phone_id', 'month_order_completed_tr']).agg({'rate': 'mean'})"
   ]
  },
  {
   "cell_type": "code",
   "execution_count": 544,
   "metadata": {},
   "outputs": [],
   "source": [
    "rate_agg.reset_index(inplace=True)"
   ]
  },
  {
   "cell_type": "code",
   "execution_count": 545,
   "metadata": {},
   "outputs": [
    {
     "data": {
      "text/html": [
       "<div>\n",
       "<style scoped>\n",
       "    .dataframe tbody tr th:only-of-type {\n",
       "        vertical-align: middle;\n",
       "    }\n",
       "\n",
       "    .dataframe tbody tr th {\n",
       "        vertical-align: top;\n",
       "    }\n",
       "\n",
       "    .dataframe thead th {\n",
       "        text-align: right;\n",
       "    }\n",
       "</style>\n",
       "<table border=\"1\" class=\"dataframe\">\n",
       "  <thead>\n",
       "    <tr style=\"text-align: right;\">\n",
       "      <th></th>\n",
       "      <th>phone_id</th>\n",
       "      <th>month_order_completed_tr</th>\n",
       "      <th>rate</th>\n",
       "    </tr>\n",
       "  </thead>\n",
       "  <tbody>\n",
       "    <tr>\n",
       "      <th>0</th>\n",
       "      <td>3.0</td>\n",
       "      <td>2020-03</td>\n",
       "      <td>5.0</td>\n",
       "    </tr>\n",
       "    <tr>\n",
       "      <th>1</th>\n",
       "      <td>3.0</td>\n",
       "      <td>2020-05</td>\n",
       "      <td>1.0</td>\n",
       "    </tr>\n",
       "    <tr>\n",
       "      <th>2</th>\n",
       "      <td>3.0</td>\n",
       "      <td>2020-07</td>\n",
       "      <td>5.0</td>\n",
       "    </tr>\n",
       "    <tr>\n",
       "      <th>3</th>\n",
       "      <td>4.0</td>\n",
       "      <td>2020-04</td>\n",
       "      <td>5.0</td>\n",
       "    </tr>\n",
       "    <tr>\n",
       "      <th>4</th>\n",
       "      <td>4.0</td>\n",
       "      <td>2020-05</td>\n",
       "      <td>4.0</td>\n",
       "    </tr>\n",
       "  </tbody>\n",
       "</table>\n",
       "</div>"
      ],
      "text/plain": [
       "   phone_id month_order_completed_tr  rate\n",
       "0       3.0                  2020-03   5.0\n",
       "1       3.0                  2020-05   1.0\n",
       "2       3.0                  2020-07   5.0\n",
       "3       4.0                  2020-04   5.0\n",
       "4       4.0                  2020-05   4.0"
      ]
     },
     "execution_count": 545,
     "metadata": {},
     "output_type": "execute_result"
    }
   ],
   "source": [
    "rate_agg.head()"
   ]
  },
  {
   "cell_type": "code",
   "execution_count": 546,
   "metadata": {},
   "outputs": [],
   "source": [
    "rate_agg.rename(columns={'rate': 'avg_rate'}, inplace=True)"
   ]
  },
  {
   "cell_type": "code",
   "execution_count": 547,
   "metadata": {},
   "outputs": [
    {
     "data": {
      "text/html": [
       "<div>\n",
       "<style scoped>\n",
       "    .dataframe tbody tr th:only-of-type {\n",
       "        vertical-align: middle;\n",
       "    }\n",
       "\n",
       "    .dataframe tbody tr th {\n",
       "        vertical-align: top;\n",
       "    }\n",
       "\n",
       "    .dataframe thead th {\n",
       "        text-align: right;\n",
       "    }\n",
       "</style>\n",
       "<table border=\"1\" class=\"dataframe\">\n",
       "  <thead>\n",
       "    <tr style=\"text-align: right;\">\n",
       "      <th></th>\n",
       "      <th>phone_id</th>\n",
       "      <th>month_order_completed_tr</th>\n",
       "      <th>avg_rate</th>\n",
       "    </tr>\n",
       "  </thead>\n",
       "  <tbody>\n",
       "    <tr>\n",
       "      <th>0</th>\n",
       "      <td>3.0</td>\n",
       "      <td>2020-03</td>\n",
       "      <td>5.0</td>\n",
       "    </tr>\n",
       "    <tr>\n",
       "      <th>1</th>\n",
       "      <td>3.0</td>\n",
       "      <td>2020-05</td>\n",
       "      <td>1.0</td>\n",
       "    </tr>\n",
       "    <tr>\n",
       "      <th>2</th>\n",
       "      <td>3.0</td>\n",
       "      <td>2020-07</td>\n",
       "      <td>5.0</td>\n",
       "    </tr>\n",
       "    <tr>\n",
       "      <th>3</th>\n",
       "      <td>4.0</td>\n",
       "      <td>2020-04</td>\n",
       "      <td>5.0</td>\n",
       "    </tr>\n",
       "    <tr>\n",
       "      <th>4</th>\n",
       "      <td>4.0</td>\n",
       "      <td>2020-05</td>\n",
       "      <td>4.0</td>\n",
       "    </tr>\n",
       "  </tbody>\n",
       "</table>\n",
       "</div>"
      ],
      "text/plain": [
       "   phone_id month_order_completed_tr  avg_rate\n",
       "0       3.0                  2020-03       5.0\n",
       "1       3.0                  2020-05       1.0\n",
       "2       3.0                  2020-07       5.0\n",
       "3       4.0                  2020-04       5.0\n",
       "4       4.0                  2020-05       4.0"
      ]
     },
     "execution_count": 547,
     "metadata": {},
     "output_type": "execute_result"
    }
   ],
   "source": [
    "rate_agg.head()"
   ]
  },
  {
   "cell_type": "code",
   "execution_count": 548,
   "metadata": {},
   "outputs": [],
   "source": [
    "rate_agg.to_csv('rate_feature.csv', index=False)"
   ]
  },
  {
   "cell_type": "code",
   "execution_count": 549,
   "metadata": {},
   "outputs": [],
   "source": [
    "# Group by phone_id and order completed month\n",
    "master_agg = master_clean.groupby(['phone_id', 'month_order_completed_tr']).agg({'shipment_id':'count',\n",
    "                                                                              'total_receipt': 'sum',\n",
    "                                                                              'total_cost': 'sum',\n",
    "                                                                              'discount':'sum', \n",
    "                                                                              'replaced':'sum',\n",
    "                                                                              'cancelled':'sum',\n",
    "                                                                              'shipped_item_count': 'sum',\n",
    "                                                                              'promo_total':'sum',\n",
    "                                                                              'platform': 'count',\n",
    "                                                                              'os': 'count', \n",
    "                                                                              'dw_kind':'count',\n",
    "                                                                              'ship_address_id': 'count',\n",
    "                                                                              'shipment_state': 'mean',\n",
    "                                                                              'time_delivery_h': 'mean',\n",
    "                                                                              'time_shipment_h': 'mean',\n",
    "                                                                              'order_completed_hour_of_day': 'mean',\n",
    "                                                                              'order_completed_day_of_week': 'count',\n",
    "                                                                              's.store_id': 'count'\n",
    "                                                                             })"
   ]
  },
  {
   "cell_type": "code",
   "execution_count": 550,
   "metadata": {},
   "outputs": [],
   "source": [
    "# Rename columns\n",
    "master_agg.rename(columns={\n",
    "                            'order_completed_hour_of_day': 'avg_hour_of_a_day_to_complete_order',\n",
    "                            'order_completed_day_of_week': 'unique_days_of_week_to_complete_order',\n",
    "                            'rate': 'avg_rate',\n",
    "                            's.store_id': 'unique_store_id',\n",
    "                            'shipment_id': 'shipment_number',\n",
    "                            'month_order_completed_tr': 'month_order_completed',\n",
    "                            'discount': 'total_discount',\n",
    "                            'replaced': 'total_replaced',\n",
    "                            'cancelled': 'total_cancelled',\n",
    "                            'platform': 'used_unique_platforms',\n",
    "                            'os': 'used_unique_os',\n",
    "                            'dw_kind': 'unique_dw_kind',\n",
    "                            'ship_address_id': 'unique_ship_address_id',\n",
    "                            'shipment_state': 'unique_shipment_state',\n",
    "                            'time_delivery_h': 'avg_time_spent_on_delivery',\n",
    "                            'time_shipment_h': 'avg_time_spent_on_shipment'}, inplace=True)"
   ]
  },
  {
   "cell_type": "code",
   "execution_count": 551,
   "metadata": {},
   "outputs": [],
   "source": [
    "master_agg.reset_index(inplace=True)"
   ]
  },
  {
   "cell_type": "code",
   "execution_count": 552,
   "metadata": {},
   "outputs": [
    {
     "data": {
      "text/html": [
       "<div>\n",
       "<style scoped>\n",
       "    .dataframe tbody tr th:only-of-type {\n",
       "        vertical-align: middle;\n",
       "    }\n",
       "\n",
       "    .dataframe tbody tr th {\n",
       "        vertical-align: top;\n",
       "    }\n",
       "\n",
       "    .dataframe thead th {\n",
       "        text-align: right;\n",
       "    }\n",
       "</style>\n",
       "<table border=\"1\" class=\"dataframe\">\n",
       "  <thead>\n",
       "    <tr style=\"text-align: right;\">\n",
       "      <th></th>\n",
       "      <th>phone_id</th>\n",
       "      <th>month_order_completed_tr</th>\n",
       "      <th>shipment_number</th>\n",
       "      <th>total_receipt</th>\n",
       "      <th>total_cost</th>\n",
       "      <th>total_discount</th>\n",
       "      <th>total_replaced</th>\n",
       "      <th>total_cancelled</th>\n",
       "      <th>shipped_item_count</th>\n",
       "      <th>promo_total</th>\n",
       "      <th>used_unique_platforms</th>\n",
       "      <th>used_unique_os</th>\n",
       "      <th>unique_dw_kind</th>\n",
       "      <th>unique_ship_address_id</th>\n",
       "      <th>unique_shipment_state</th>\n",
       "      <th>avg_time_spent_on_delivery</th>\n",
       "      <th>avg_time_spent_on_shipment</th>\n",
       "      <th>avg_hour_of_a_day_to_complete_order</th>\n",
       "      <th>unique_days_of_week_to_complete_order</th>\n",
       "      <th>unique_store_id</th>\n",
       "    </tr>\n",
       "  </thead>\n",
       "  <tbody>\n",
       "    <tr>\n",
       "      <th>0</th>\n",
       "      <td>2.0</td>\n",
       "      <td>2020-01</td>\n",
       "      <td>1</td>\n",
       "      <td>4184.310007</td>\n",
       "      <td>98.0</td>\n",
       "      <td>1483.779999</td>\n",
       "      <td>0.0</td>\n",
       "      <td>1.0</td>\n",
       "      <td>29</td>\n",
       "      <td>0.0</td>\n",
       "      <td>1</td>\n",
       "      <td>1</td>\n",
       "      <td>1</td>\n",
       "      <td>1</td>\n",
       "      <td>1.0</td>\n",
       "      <td>2.0</td>\n",
       "      <td>0.0</td>\n",
       "      <td>10.0</td>\n",
       "      <td>1</td>\n",
       "      <td>1</td>\n",
       "    </tr>\n",
       "    <tr>\n",
       "      <th>1</th>\n",
       "      <td>2.0</td>\n",
       "      <td>2020-02</td>\n",
       "      <td>2</td>\n",
       "      <td>7071.740047</td>\n",
       "      <td>366.0</td>\n",
       "      <td>1284.839994</td>\n",
       "      <td>2.0</td>\n",
       "      <td>1.0</td>\n",
       "      <td>64</td>\n",
       "      <td>0.0</td>\n",
       "      <td>2</td>\n",
       "      <td>2</td>\n",
       "      <td>2</td>\n",
       "      <td>2</td>\n",
       "      <td>1.0</td>\n",
       "      <td>4.5</td>\n",
       "      <td>0.0</td>\n",
       "      <td>10.5</td>\n",
       "      <td>2</td>\n",
       "      <td>2</td>\n",
       "    </tr>\n",
       "    <tr>\n",
       "      <th>2</th>\n",
       "      <td>2.0</td>\n",
       "      <td>2020-03</td>\n",
       "      <td>1</td>\n",
       "      <td>5085.780035</td>\n",
       "      <td>233.0</td>\n",
       "      <td>1077.389990</td>\n",
       "      <td>2.0</td>\n",
       "      <td>0.0</td>\n",
       "      <td>45</td>\n",
       "      <td>0.0</td>\n",
       "      <td>1</td>\n",
       "      <td>1</td>\n",
       "      <td>1</td>\n",
       "      <td>1</td>\n",
       "      <td>1.0</td>\n",
       "      <td>18.0</td>\n",
       "      <td>0.0</td>\n",
       "      <td>12.0</td>\n",
       "      <td>1</td>\n",
       "      <td>1</td>\n",
       "    </tr>\n",
       "    <tr>\n",
       "      <th>3</th>\n",
       "      <td>2.0</td>\n",
       "      <td>2020-05</td>\n",
       "      <td>1</td>\n",
       "      <td>6323.230021</td>\n",
       "      <td>248.0</td>\n",
       "      <td>825.089998</td>\n",
       "      <td>5.0</td>\n",
       "      <td>3.0</td>\n",
       "      <td>47</td>\n",
       "      <td>0.0</td>\n",
       "      <td>1</td>\n",
       "      <td>1</td>\n",
       "      <td>1</td>\n",
       "      <td>1</td>\n",
       "      <td>1.0</td>\n",
       "      <td>11.0</td>\n",
       "      <td>0.0</td>\n",
       "      <td>7.0</td>\n",
       "      <td>1</td>\n",
       "      <td>1</td>\n",
       "    </tr>\n",
       "    <tr>\n",
       "      <th>4</th>\n",
       "      <td>3.0</td>\n",
       "      <td>2020-03</td>\n",
       "      <td>2</td>\n",
       "      <td>8038.860060</td>\n",
       "      <td>0.0</td>\n",
       "      <td>3736.220008</td>\n",
       "      <td>1.0</td>\n",
       "      <td>5.0</td>\n",
       "      <td>84</td>\n",
       "      <td>0.0</td>\n",
       "      <td>2</td>\n",
       "      <td>2</td>\n",
       "      <td>2</td>\n",
       "      <td>2</td>\n",
       "      <td>1.0</td>\n",
       "      <td>18.0</td>\n",
       "      <td>0.0</td>\n",
       "      <td>1.5</td>\n",
       "      <td>2</td>\n",
       "      <td>2</td>\n",
       "    </tr>\n",
       "  </tbody>\n",
       "</table>\n",
       "</div>"
      ],
      "text/plain": [
       "   phone_id month_order_completed_tr  shipment_number  total_receipt  \\\n",
       "0       2.0                  2020-01                1    4184.310007   \n",
       "1       2.0                  2020-02                2    7071.740047   \n",
       "2       2.0                  2020-03                1    5085.780035   \n",
       "3       2.0                  2020-05                1    6323.230021   \n",
       "4       3.0                  2020-03                2    8038.860060   \n",
       "\n",
       "   total_cost  total_discount  total_replaced  total_cancelled  \\\n",
       "0        98.0     1483.779999             0.0              1.0   \n",
       "1       366.0     1284.839994             2.0              1.0   \n",
       "2       233.0     1077.389990             2.0              0.0   \n",
       "3       248.0      825.089998             5.0              3.0   \n",
       "4         0.0     3736.220008             1.0              5.0   \n",
       "\n",
       "   shipped_item_count  promo_total  used_unique_platforms  used_unique_os  \\\n",
       "0                  29          0.0                      1               1   \n",
       "1                  64          0.0                      2               2   \n",
       "2                  45          0.0                      1               1   \n",
       "3                  47          0.0                      1               1   \n",
       "4                  84          0.0                      2               2   \n",
       "\n",
       "   unique_dw_kind  unique_ship_address_id  unique_shipment_state  \\\n",
       "0               1                       1                    1.0   \n",
       "1               2                       2                    1.0   \n",
       "2               1                       1                    1.0   \n",
       "3               1                       1                    1.0   \n",
       "4               2                       2                    1.0   \n",
       "\n",
       "   avg_time_spent_on_delivery  avg_time_spent_on_shipment  \\\n",
       "0                         2.0                         0.0   \n",
       "1                         4.5                         0.0   \n",
       "2                        18.0                         0.0   \n",
       "3                        11.0                         0.0   \n",
       "4                        18.0                         0.0   \n",
       "\n",
       "   avg_hour_of_a_day_to_complete_order  unique_days_of_week_to_complete_order  \\\n",
       "0                                 10.0                                      1   \n",
       "1                                 10.5                                      2   \n",
       "2                                 12.0                                      1   \n",
       "3                                  7.0                                      1   \n",
       "4                                  1.5                                      2   \n",
       "\n",
       "   unique_store_id  \n",
       "0                1  \n",
       "1                2  \n",
       "2                1  \n",
       "3                1  \n",
       "4                2  "
      ]
     },
     "execution_count": 552,
     "metadata": {},
     "output_type": "execute_result"
    }
   ],
   "source": [
    "master_agg.head()"
   ]
  },
  {
   "cell_type": "code",
   "execution_count": 553,
   "metadata": {},
   "outputs": [
    {
     "data": {
      "text/plain": [
       "(1155509, 20)"
      ]
     },
     "execution_count": 553,
     "metadata": {},
     "output_type": "execute_result"
    }
   ],
   "source": [
    "master_agg.shape"
   ]
  },
  {
   "cell_type": "code",
   "execution_count": 554,
   "metadata": {},
   "outputs": [],
   "source": [
    "master_agg_final = pd.merge(master_agg, rate_agg, left_on=['phone_id', 'month_order_completed_tr'],\n",
    "                            right_on=['phone_id', 'month_order_completed_tr'], how='left')"
   ]
  },
  {
   "cell_type": "code",
   "execution_count": 555,
   "metadata": {},
   "outputs": [
    {
     "name": "stdout",
     "output_type": "stream",
     "text": [
      "<class 'pandas.core.frame.DataFrame'>\n",
      "Int64Index: 1155509 entries, 0 to 1155508\n",
      "Data columns (total 21 columns):\n",
      " #   Column                                 Non-Null Count    Dtype    \n",
      "---  ------                                 --------------    -----    \n",
      " 0   phone_id                               1155509 non-null  float64  \n",
      " 1   month_order_completed_tr               1155509 non-null  period[M]\n",
      " 2   shipment_number                        1155509 non-null  int64    \n",
      " 3   total_receipt                          1155509 non-null  float64  \n",
      " 4   total_cost                             1155509 non-null  float64  \n",
      " 5   total_discount                         1155509 non-null  float64  \n",
      " 6   total_replaced                         1155509 non-null  float64  \n",
      " 7   total_cancelled                        1155509 non-null  float64  \n",
      " 8   shipped_item_count                     1155509 non-null  int64    \n",
      " 9   promo_total                            1155509 non-null  float64  \n",
      " 10  used_unique_platforms                  1155509 non-null  int64    \n",
      " 11  used_unique_os                         1155509 non-null  int64    \n",
      " 12  unique_dw_kind                         1155509 non-null  int64    \n",
      " 13  unique_ship_address_id                 1155509 non-null  int64    \n",
      " 14  unique_shipment_state                  1153915 non-null  float64  \n",
      " 15  avg_time_spent_on_delivery             1117827 non-null  float64  \n",
      " 16  avg_time_spent_on_shipment             1155509 non-null  float64  \n",
      " 17  avg_hour_of_a_day_to_complete_order    1155509 non-null  float64  \n",
      " 18  unique_days_of_week_to_complete_order  1155509 non-null  int64    \n",
      " 19  unique_store_id                        1155509 non-null  int64    \n",
      " 20  avg_rate                               767655 non-null   float64  \n",
      "dtypes: float64(12), int64(8), period[M](1)\n",
      "memory usage: 193.9 MB\n"
     ]
    }
   ],
   "source": [
    "master_agg_final.info()"
   ]
  },
  {
   "cell_type": "code",
   "execution_count": 556,
   "metadata": {},
   "outputs": [],
   "source": [
    "# Fill Null values with average\n",
    "master_agg_final.avg_time_spent_on_delivery = master_agg_final.groupby('phone_id')['avg_time_spent_on_delivery'].apply(lambda x: x.fillna(x.mean()))\n",
    "master_agg_final.avg_time_spent_on_delivery = master_agg_final.avg_time_spent_on_delivery.fillna(master_agg_final.avg_time_spent_on_delivery.mean())"
   ]
  },
  {
   "cell_type": "code",
   "execution_count": 557,
   "metadata": {},
   "outputs": [
    {
     "name": "stdout",
     "output_type": "stream",
     "text": [
      "<class 'pandas.core.frame.DataFrame'>\n",
      "Int64Index: 1155509 entries, 0 to 1155508\n",
      "Data columns (total 21 columns):\n",
      " #   Column                                 Non-Null Count    Dtype    \n",
      "---  ------                                 --------------    -----    \n",
      " 0   phone_id                               1155509 non-null  float64  \n",
      " 1   month_order_completed_tr               1155509 non-null  period[M]\n",
      " 2   shipment_number                        1155509 non-null  int64    \n",
      " 3   total_receipt                          1155509 non-null  float64  \n",
      " 4   total_cost                             1155509 non-null  float64  \n",
      " 5   total_discount                         1155509 non-null  float64  \n",
      " 6   total_replaced                         1155509 non-null  float64  \n",
      " 7   total_cancelled                        1155509 non-null  float64  \n",
      " 8   shipped_item_count                     1155509 non-null  int64    \n",
      " 9   promo_total                            1155509 non-null  float64  \n",
      " 10  used_unique_platforms                  1155509 non-null  int64    \n",
      " 11  used_unique_os                         1155509 non-null  int64    \n",
      " 12  unique_dw_kind                         1155509 non-null  int64    \n",
      " 13  unique_ship_address_id                 1155509 non-null  int64    \n",
      " 14  unique_shipment_state                  1153915 non-null  float64  \n",
      " 15  avg_time_spent_on_delivery             1155509 non-null  float64  \n",
      " 16  avg_time_spent_on_shipment             1155509 non-null  float64  \n",
      " 17  avg_hour_of_a_day_to_complete_order    1155509 non-null  float64  \n",
      " 18  unique_days_of_week_to_complete_order  1155509 non-null  int64    \n",
      " 19  unique_store_id                        1155509 non-null  int64    \n",
      " 20  avg_rate                               767655 non-null   float64  \n",
      "dtypes: float64(12), int64(8), period[M](1)\n",
      "memory usage: 193.9 MB\n"
     ]
    }
   ],
   "source": [
    "master_agg_final.info()"
   ]
  },
  {
   "cell_type": "code",
   "execution_count": 558,
   "metadata": {},
   "outputs": [],
   "source": [
    "# Fill Null values with average\n",
    "master_agg_final.unique_shipment_state = master_agg_final.groupby('phone_id')['unique_shipment_state'].apply(lambda x: x.fillna(x.mean()))\n",
    "master_agg_final.unique_shipment_state = master_agg_final.unique_shipment_state.fillna(master_agg_final.unique_shipment_state.mean())"
   ]
  },
  {
   "cell_type": "code",
   "execution_count": 559,
   "metadata": {},
   "outputs": [],
   "source": [
    "# Fill Null values with average\n",
    "master_agg_final.avg_rate = master_agg_final.groupby('phone_id')['avg_rate'].apply(lambda x: x.fillna(x.mean()))\n",
    "master_agg_final.avg_rate = master_agg_final.avg_rate.fillna(master_agg_final.avg_rate.mean())"
   ]
  },
  {
   "cell_type": "code",
   "execution_count": 560,
   "metadata": {},
   "outputs": [
    {
     "name": "stdout",
     "output_type": "stream",
     "text": [
      "<class 'pandas.core.frame.DataFrame'>\n",
      "Int64Index: 1155509 entries, 0 to 1155508\n",
      "Data columns (total 21 columns):\n",
      " #   Column                                 Non-Null Count    Dtype    \n",
      "---  ------                                 --------------    -----    \n",
      " 0   phone_id                               1155509 non-null  float64  \n",
      " 1   month_order_completed_tr               1155509 non-null  period[M]\n",
      " 2   shipment_number                        1155509 non-null  int64    \n",
      " 3   total_receipt                          1155509 non-null  float64  \n",
      " 4   total_cost                             1155509 non-null  float64  \n",
      " 5   total_discount                         1155509 non-null  float64  \n",
      " 6   total_replaced                         1155509 non-null  float64  \n",
      " 7   total_cancelled                        1155509 non-null  float64  \n",
      " 8   shipped_item_count                     1155509 non-null  int64    \n",
      " 9   promo_total                            1155509 non-null  float64  \n",
      " 10  used_unique_platforms                  1155509 non-null  int64    \n",
      " 11  used_unique_os                         1155509 non-null  int64    \n",
      " 12  unique_dw_kind                         1155509 non-null  int64    \n",
      " 13  unique_ship_address_id                 1155509 non-null  int64    \n",
      " 14  unique_shipment_state                  1155509 non-null  float64  \n",
      " 15  avg_time_spent_on_delivery             1155509 non-null  float64  \n",
      " 16  avg_time_spent_on_shipment             1155509 non-null  float64  \n",
      " 17  avg_hour_of_a_day_to_complete_order    1155509 non-null  float64  \n",
      " 18  unique_days_of_week_to_complete_order  1155509 non-null  int64    \n",
      " 19  unique_store_id                        1155509 non-null  int64    \n",
      " 20  avg_rate                               1155509 non-null  float64  \n",
      "dtypes: float64(12), int64(8), period[M](1)\n",
      "memory usage: 193.9 MB\n"
     ]
    }
   ],
   "source": [
    "master_agg_final.info()"
   ]
  },
  {
   "cell_type": "code",
   "execution_count": 561,
   "metadata": {},
   "outputs": [
    {
     "data": {
      "text/plain": [
       "0"
      ]
     },
     "execution_count": 561,
     "metadata": {},
     "output_type": "execute_result"
    }
   ],
   "source": [
    "master_agg_final.isnull().sum().sum()"
   ]
  },
  {
   "cell_type": "code",
   "execution_count": 562,
   "metadata": {},
   "outputs": [
    {
     "data": {
      "text/html": [
       "<div>\n",
       "<style scoped>\n",
       "    .dataframe tbody tr th:only-of-type {\n",
       "        vertical-align: middle;\n",
       "    }\n",
       "\n",
       "    .dataframe tbody tr th {\n",
       "        vertical-align: top;\n",
       "    }\n",
       "\n",
       "    .dataframe thead th {\n",
       "        text-align: right;\n",
       "    }\n",
       "</style>\n",
       "<table border=\"1\" class=\"dataframe\">\n",
       "  <thead>\n",
       "    <tr style=\"text-align: right;\">\n",
       "      <th></th>\n",
       "      <th>phone_id</th>\n",
       "      <th>shipment_number</th>\n",
       "      <th>total_receipt</th>\n",
       "      <th>total_cost</th>\n",
       "      <th>total_discount</th>\n",
       "      <th>total_replaced</th>\n",
       "      <th>total_cancelled</th>\n",
       "      <th>shipped_item_count</th>\n",
       "      <th>promo_total</th>\n",
       "      <th>used_unique_platforms</th>\n",
       "      <th>used_unique_os</th>\n",
       "      <th>unique_dw_kind</th>\n",
       "      <th>unique_ship_address_id</th>\n",
       "      <th>unique_shipment_state</th>\n",
       "      <th>avg_time_spent_on_delivery</th>\n",
       "      <th>avg_time_spent_on_shipment</th>\n",
       "      <th>avg_hour_of_a_day_to_complete_order</th>\n",
       "      <th>unique_days_of_week_to_complete_order</th>\n",
       "      <th>unique_store_id</th>\n",
       "      <th>avg_rate</th>\n",
       "    </tr>\n",
       "  </thead>\n",
       "  <tbody>\n",
       "    <tr>\n",
       "      <th>count</th>\n",
       "      <td>1.155509e+06</td>\n",
       "      <td>1.155509e+06</td>\n",
       "      <td>1.155509e+06</td>\n",
       "      <td>1.155509e+06</td>\n",
       "      <td>1.155509e+06</td>\n",
       "      <td>1.155509e+06</td>\n",
       "      <td>1.155509e+06</td>\n",
       "      <td>1.155509e+06</td>\n",
       "      <td>1.155509e+06</td>\n",
       "      <td>1.155509e+06</td>\n",
       "      <td>1.155509e+06</td>\n",
       "      <td>1.155509e+06</td>\n",
       "      <td>1.155509e+06</td>\n",
       "      <td>1.155509e+06</td>\n",
       "      <td>1.155509e+06</td>\n",
       "      <td>1155509.0</td>\n",
       "      <td>1.155509e+06</td>\n",
       "      <td>1.155509e+06</td>\n",
       "      <td>1.155509e+06</td>\n",
       "      <td>1.155509e+06</td>\n",
       "    </tr>\n",
       "    <tr>\n",
       "      <th>mean</th>\n",
       "      <td>2.518533e+05</td>\n",
       "      <td>2.017888e+00</td>\n",
       "      <td>9.305284e+03</td>\n",
       "      <td>2.314908e+02</td>\n",
       "      <td>1.171704e+03</td>\n",
       "      <td>2.412113e+00</td>\n",
       "      <td>2.351960e+00</td>\n",
       "      <td>5.452376e+01</td>\n",
       "      <td>-1.604327e+02</td>\n",
       "      <td>2.017848e+00</td>\n",
       "      <td>2.017848e+00</td>\n",
       "      <td>2.017888e+00</td>\n",
       "      <td>2.017888e+00</td>\n",
       "      <td>9.433090e-01</td>\n",
       "      <td>1.630698e+01</td>\n",
       "      <td>0.0</td>\n",
       "      <td>1.168388e+01</td>\n",
       "      <td>2.017888e+00</td>\n",
       "      <td>2.017888e+00</td>\n",
       "      <td>4.768540e+00</td>\n",
       "    </tr>\n",
       "    <tr>\n",
       "      <th>std</th>\n",
       "      <td>1.974256e+05</td>\n",
       "      <td>1.122557e+01</td>\n",
       "      <td>2.173689e+04</td>\n",
       "      <td>9.337255e+02</td>\n",
       "      <td>3.925939e+03</td>\n",
       "      <td>3.669116e+00</td>\n",
       "      <td>3.858843e+00</td>\n",
       "      <td>6.334957e+01</td>\n",
       "      <td>5.113086e+02</td>\n",
       "      <td>1.122556e+01</td>\n",
       "      <td>1.122556e+01</td>\n",
       "      <td>1.122557e+01</td>\n",
       "      <td>1.122557e+01</td>\n",
       "      <td>1.977215e-01</td>\n",
       "      <td>2.364462e+01</td>\n",
       "      <td>0.0</td>\n",
       "      <td>4.490127e+00</td>\n",
       "      <td>1.122557e+01</td>\n",
       "      <td>1.122557e+01</td>\n",
       "      <td>5.587484e-01</td>\n",
       "    </tr>\n",
       "    <tr>\n",
       "      <th>min</th>\n",
       "      <td>2.000000e+00</td>\n",
       "      <td>1.000000e+00</td>\n",
       "      <td>5.129000e+01</td>\n",
       "      <td>0.000000e+00</td>\n",
       "      <td>-5.952300e+02</td>\n",
       "      <td>0.000000e+00</td>\n",
       "      <td>0.000000e+00</td>\n",
       "      <td>1.000000e+00</td>\n",
       "      <td>-7.191622e+04</td>\n",
       "      <td>0.000000e+00</td>\n",
       "      <td>0.000000e+00</td>\n",
       "      <td>1.000000e+00</td>\n",
       "      <td>1.000000e+00</td>\n",
       "      <td>0.000000e+00</td>\n",
       "      <td>0.000000e+00</td>\n",
       "      <td>0.0</td>\n",
       "      <td>0.000000e+00</td>\n",
       "      <td>1.000000e+00</td>\n",
       "      <td>1.000000e+00</td>\n",
       "      <td>1.000000e+00</td>\n",
       "    </tr>\n",
       "    <tr>\n",
       "      <th>25%</th>\n",
       "      <td>8.722600e+04</td>\n",
       "      <td>1.000000e+00</td>\n",
       "      <td>2.884930e+03</td>\n",
       "      <td>9.800000e+01</td>\n",
       "      <td>1.954800e+02</td>\n",
       "      <td>0.000000e+00</td>\n",
       "      <td>0.000000e+00</td>\n",
       "      <td>1.900000e+01</td>\n",
       "      <td>-2.500000e+02</td>\n",
       "      <td>1.000000e+00</td>\n",
       "      <td>1.000000e+00</td>\n",
       "      <td>1.000000e+00</td>\n",
       "      <td>1.000000e+00</td>\n",
       "      <td>1.000000e+00</td>\n",
       "      <td>4.000000e+00</td>\n",
       "      <td>0.0</td>\n",
       "      <td>8.500000e+00</td>\n",
       "      <td>1.000000e+00</td>\n",
       "      <td>1.000000e+00</td>\n",
       "      <td>4.768540e+00</td>\n",
       "    </tr>\n",
       "    <tr>\n",
       "      <th>50%</th>\n",
       "      <td>2.022330e+05</td>\n",
       "      <td>1.000000e+00</td>\n",
       "      <td>5.430530e+03</td>\n",
       "      <td>1.580000e+02</td>\n",
       "      <td>5.904900e+02</td>\n",
       "      <td>1.000000e+00</td>\n",
       "      <td>1.000000e+00</td>\n",
       "      <td>3.500000e+01</td>\n",
       "      <td>0.000000e+00</td>\n",
       "      <td>1.000000e+00</td>\n",
       "      <td>1.000000e+00</td>\n",
       "      <td>1.000000e+00</td>\n",
       "      <td>1.000000e+00</td>\n",
       "      <td>1.000000e+00</td>\n",
       "      <td>9.800000e+00</td>\n",
       "      <td>0.0</td>\n",
       "      <td>1.140000e+01</td>\n",
       "      <td>1.000000e+00</td>\n",
       "      <td>1.000000e+00</td>\n",
       "      <td>5.000000e+00</td>\n",
       "    </tr>\n",
       "    <tr>\n",
       "      <th>75%</th>\n",
       "      <td>3.747700e+05</td>\n",
       "      <td>2.000000e+00</td>\n",
       "      <td>1.096684e+04</td>\n",
       "      <td>3.160000e+02</td>\n",
       "      <td>1.392170e+03</td>\n",
       "      <td>3.000000e+00</td>\n",
       "      <td>3.000000e+00</td>\n",
       "      <td>6.800000e+01</td>\n",
       "      <td>0.000000e+00</td>\n",
       "      <td>2.000000e+00</td>\n",
       "      <td>2.000000e+00</td>\n",
       "      <td>2.000000e+00</td>\n",
       "      <td>2.000000e+00</td>\n",
       "      <td>1.000000e+00</td>\n",
       "      <td>1.700000e+01</td>\n",
       "      <td>0.0</td>\n",
       "      <td>1.500000e+01</td>\n",
       "      <td>2.000000e+00</td>\n",
       "      <td>2.000000e+00</td>\n",
       "      <td>5.000000e+00</td>\n",
       "    </tr>\n",
       "    <tr>\n",
       "      <th>max</th>\n",
       "      <td>7.193740e+05</td>\n",
       "      <td>7.346000e+03</td>\n",
       "      <td>1.215192e+07</td>\n",
       "      <td>6.605140e+05</td>\n",
       "      <td>2.093925e+06</td>\n",
       "      <td>9.400000e+01</td>\n",
       "      <td>2.670000e+02</td>\n",
       "      <td>9.230000e+03</td>\n",
       "      <td>0.000000e+00</td>\n",
       "      <td>7.346000e+03</td>\n",
       "      <td>7.346000e+03</td>\n",
       "      <td>7.346000e+03</td>\n",
       "      <td>7.346000e+03</td>\n",
       "      <td>1.000000e+00</td>\n",
       "      <td>1.221000e+03</td>\n",
       "      <td>0.0</td>\n",
       "      <td>2.300000e+01</td>\n",
       "      <td>7.346000e+03</td>\n",
       "      <td>7.346000e+03</td>\n",
       "      <td>5.000000e+00</td>\n",
       "    </tr>\n",
       "  </tbody>\n",
       "</table>\n",
       "</div>"
      ],
      "text/plain": [
       "           phone_id  shipment_number  total_receipt    total_cost  \\\n",
       "count  1.155509e+06     1.155509e+06   1.155509e+06  1.155509e+06   \n",
       "mean   2.518533e+05     2.017888e+00   9.305284e+03  2.314908e+02   \n",
       "std    1.974256e+05     1.122557e+01   2.173689e+04  9.337255e+02   \n",
       "min    2.000000e+00     1.000000e+00   5.129000e+01  0.000000e+00   \n",
       "25%    8.722600e+04     1.000000e+00   2.884930e+03  9.800000e+01   \n",
       "50%    2.022330e+05     1.000000e+00   5.430530e+03  1.580000e+02   \n",
       "75%    3.747700e+05     2.000000e+00   1.096684e+04  3.160000e+02   \n",
       "max    7.193740e+05     7.346000e+03   1.215192e+07  6.605140e+05   \n",
       "\n",
       "       total_discount  total_replaced  total_cancelled  shipped_item_count  \\\n",
       "count    1.155509e+06    1.155509e+06     1.155509e+06        1.155509e+06   \n",
       "mean     1.171704e+03    2.412113e+00     2.351960e+00        5.452376e+01   \n",
       "std      3.925939e+03    3.669116e+00     3.858843e+00        6.334957e+01   \n",
       "min     -5.952300e+02    0.000000e+00     0.000000e+00        1.000000e+00   \n",
       "25%      1.954800e+02    0.000000e+00     0.000000e+00        1.900000e+01   \n",
       "50%      5.904900e+02    1.000000e+00     1.000000e+00        3.500000e+01   \n",
       "75%      1.392170e+03    3.000000e+00     3.000000e+00        6.800000e+01   \n",
       "max      2.093925e+06    9.400000e+01     2.670000e+02        9.230000e+03   \n",
       "\n",
       "        promo_total  used_unique_platforms  used_unique_os  unique_dw_kind  \\\n",
       "count  1.155509e+06           1.155509e+06    1.155509e+06    1.155509e+06   \n",
       "mean  -1.604327e+02           2.017848e+00    2.017848e+00    2.017888e+00   \n",
       "std    5.113086e+02           1.122556e+01    1.122556e+01    1.122557e+01   \n",
       "min   -7.191622e+04           0.000000e+00    0.000000e+00    1.000000e+00   \n",
       "25%   -2.500000e+02           1.000000e+00    1.000000e+00    1.000000e+00   \n",
       "50%    0.000000e+00           1.000000e+00    1.000000e+00    1.000000e+00   \n",
       "75%    0.000000e+00           2.000000e+00    2.000000e+00    2.000000e+00   \n",
       "max    0.000000e+00           7.346000e+03    7.346000e+03    7.346000e+03   \n",
       "\n",
       "       unique_ship_address_id  unique_shipment_state  \\\n",
       "count            1.155509e+06           1.155509e+06   \n",
       "mean             2.017888e+00           9.433090e-01   \n",
       "std              1.122557e+01           1.977215e-01   \n",
       "min              1.000000e+00           0.000000e+00   \n",
       "25%              1.000000e+00           1.000000e+00   \n",
       "50%              1.000000e+00           1.000000e+00   \n",
       "75%              2.000000e+00           1.000000e+00   \n",
       "max              7.346000e+03           1.000000e+00   \n",
       "\n",
       "       avg_time_spent_on_delivery  avg_time_spent_on_shipment  \\\n",
       "count                1.155509e+06                   1155509.0   \n",
       "mean                 1.630698e+01                         0.0   \n",
       "std                  2.364462e+01                         0.0   \n",
       "min                  0.000000e+00                         0.0   \n",
       "25%                  4.000000e+00                         0.0   \n",
       "50%                  9.800000e+00                         0.0   \n",
       "75%                  1.700000e+01                         0.0   \n",
       "max                  1.221000e+03                         0.0   \n",
       "\n",
       "       avg_hour_of_a_day_to_complete_order  \\\n",
       "count                         1.155509e+06   \n",
       "mean                          1.168388e+01   \n",
       "std                           4.490127e+00   \n",
       "min                           0.000000e+00   \n",
       "25%                           8.500000e+00   \n",
       "50%                           1.140000e+01   \n",
       "75%                           1.500000e+01   \n",
       "max                           2.300000e+01   \n",
       "\n",
       "       unique_days_of_week_to_complete_order  unique_store_id      avg_rate  \n",
       "count                           1.155509e+06     1.155509e+06  1.155509e+06  \n",
       "mean                            2.017888e+00     2.017888e+00  4.768540e+00  \n",
       "std                             1.122557e+01     1.122557e+01  5.587484e-01  \n",
       "min                             1.000000e+00     1.000000e+00  1.000000e+00  \n",
       "25%                             1.000000e+00     1.000000e+00  4.768540e+00  \n",
       "50%                             1.000000e+00     1.000000e+00  5.000000e+00  \n",
       "75%                             2.000000e+00     2.000000e+00  5.000000e+00  \n",
       "max                             7.346000e+03     7.346000e+03  5.000000e+00  "
      ]
     },
     "execution_count": 562,
     "metadata": {},
     "output_type": "execute_result"
    }
   ],
   "source": [
    "master_agg_final.describe()"
   ]
  },
  {
   "cell_type": "code",
   "execution_count": 566,
   "metadata": {},
   "outputs": [
    {
     "data": {
      "text/plain": [
       "5.000000    744478\n",
       "4.768540    221745\n",
       "4.000000     62131\n",
       "4.500000     24731\n",
       "3.000000     22681\n",
       "             ...  \n",
       "4.611678         1\n",
       "4.559524         1\n",
       "4.470000         1\n",
       "4.662963         1\n",
       "4.689815         1\n",
       "Name: avg_rate, Length: 1063, dtype: int64"
      ]
     },
     "execution_count": 566,
     "metadata": {},
     "output_type": "execute_result"
    }
   ],
   "source": [
    "master_agg_final['avg_rate'].value_counts()"
   ]
  },
  {
   "cell_type": "code",
   "execution_count": 567,
   "metadata": {},
   "outputs": [
    {
     "data": {
      "text/plain": [
       "3.000000      107241\n",
       "2.000000       77329\n",
       "4.000000       76176\n",
       "5.000000       48762\n",
       "6.000000       33690\n",
       "               ...  \n",
       "42.142857          1\n",
       "6.611111           1\n",
       "7.352941           1\n",
       "52.181818          1\n",
       "169.333333         1\n",
       "Name: avg_time_spent_on_delivery, Length: 5748, dtype: int64"
      ]
     },
     "execution_count": 567,
     "metadata": {},
     "output_type": "execute_result"
    }
   ],
   "source": [
    "master_agg_final['avg_time_spent_on_delivery'].value_counts()"
   ]
  },
  {
   "cell_type": "code",
   "execution_count": 568,
   "metadata": {},
   "outputs": [
    {
     "data": {
      "text/plain": [
       "1.000000    1040357\n",
       "0.000000      35688\n",
       "0.500000      28336\n",
       "0.666667      15859\n",
       "0.750000       8971\n",
       "             ...   \n",
       "0.980000          1\n",
       "0.580645          1\n",
       "0.978723          1\n",
       "0.985075          1\n",
       "0.011765          1\n",
       "Name: unique_shipment_state, Length: 316, dtype: int64"
      ]
     },
     "execution_count": 568,
     "metadata": {},
     "output_type": "execute_result"
    }
   ],
   "source": [
    "master_agg_final['unique_shipment_state'].value_counts()"
   ]
  },
  {
   "cell_type": "code",
   "execution_count": 569,
   "metadata": {},
   "outputs": [],
   "source": [
    "# Save to csv\n",
    "master_agg_final.to_csv('features_cleaned.csv', index=False)"
   ]
  },
  {
   "cell_type": "code",
   "execution_count": 570,
   "metadata": {},
   "outputs": [
    {
     "ename": "AttributeError",
     "evalue": "'DataFrame' object has no attribute 'isduplicated'",
     "output_type": "error",
     "traceback": [
      "\u001b[0;31m---------------------------------------------------------------------------\u001b[0m",
      "\u001b[0;31mAttributeError\u001b[0m                            Traceback (most recent call last)",
      "\u001b[0;32m<ipython-input-570-cb8835a743c6>\u001b[0m in \u001b[0;36m<module>\u001b[0;34m\u001b[0m\n\u001b[0;32m----> 1\u001b[0;31m \u001b[0mmaster_agg_final\u001b[0m\u001b[0;34m.\u001b[0m\u001b[0misduplicated\u001b[0m\u001b[0;34m(\u001b[0m\u001b[0;34m)\u001b[0m\u001b[0;34m.\u001b[0m\u001b[0msum\u001b[0m\u001b[0;34m(\u001b[0m\u001b[0;34m)\u001b[0m\u001b[0;34m\u001b[0m\u001b[0;34m\u001b[0m\u001b[0m\n\u001b[0m",
      "\u001b[0;32m~/opt/anaconda3/envs/udacity_ds_nanodegree/lib/python3.7/site-packages/pandas/core/generic.py\u001b[0m in \u001b[0;36m__getattr__\u001b[0;34m(self, name)\u001b[0m\n\u001b[1;32m   5272\u001b[0m             \u001b[0;32mif\u001b[0m \u001b[0mself\u001b[0m\u001b[0;34m.\u001b[0m\u001b[0m_info_axis\u001b[0m\u001b[0;34m.\u001b[0m\u001b[0m_can_hold_identifiers_and_holds_name\u001b[0m\u001b[0;34m(\u001b[0m\u001b[0mname\u001b[0m\u001b[0;34m)\u001b[0m\u001b[0;34m:\u001b[0m\u001b[0;34m\u001b[0m\u001b[0;34m\u001b[0m\u001b[0m\n\u001b[1;32m   5273\u001b[0m                 \u001b[0;32mreturn\u001b[0m \u001b[0mself\u001b[0m\u001b[0;34m[\u001b[0m\u001b[0mname\u001b[0m\u001b[0;34m]\u001b[0m\u001b[0;34m\u001b[0m\u001b[0;34m\u001b[0m\u001b[0m\n\u001b[0;32m-> 5274\u001b[0;31m             \u001b[0;32mreturn\u001b[0m \u001b[0mobject\u001b[0m\u001b[0;34m.\u001b[0m\u001b[0m__getattribute__\u001b[0m\u001b[0;34m(\u001b[0m\u001b[0mself\u001b[0m\u001b[0;34m,\u001b[0m \u001b[0mname\u001b[0m\u001b[0;34m)\u001b[0m\u001b[0;34m\u001b[0m\u001b[0;34m\u001b[0m\u001b[0m\n\u001b[0m\u001b[1;32m   5275\u001b[0m \u001b[0;34m\u001b[0m\u001b[0m\n\u001b[1;32m   5276\u001b[0m     \u001b[0;32mdef\u001b[0m \u001b[0m__setattr__\u001b[0m\u001b[0;34m(\u001b[0m\u001b[0mself\u001b[0m\u001b[0;34m,\u001b[0m \u001b[0mname\u001b[0m\u001b[0;34m:\u001b[0m \u001b[0mstr\u001b[0m\u001b[0;34m,\u001b[0m \u001b[0mvalue\u001b[0m\u001b[0;34m)\u001b[0m \u001b[0;34m->\u001b[0m \u001b[0;32mNone\u001b[0m\u001b[0;34m:\u001b[0m\u001b[0;34m\u001b[0m\u001b[0;34m\u001b[0m\u001b[0m\n",
      "\u001b[0;31mAttributeError\u001b[0m: 'DataFrame' object has no attribute 'isduplicated'"
     ]
    }
   ],
   "source": [
    "master_agg_final.isduplicated().sum()"
   ]
  },
  {
   "cell_type": "markdown",
   "metadata": {},
   "source": [
    "## Comments"
   ]
  },
  {
   "cell_type": "markdown",
   "metadata": {},
   "source": [
    "Overall, we created 20 features using the data for shipments and line items. "
   ]
  }
 ],
 "metadata": {
  "kernelspec": {
   "display_name": "Python 3",
   "language": "python",
   "name": "python3"
  },
  "language_info": {
   "codemirror_mode": {
    "name": "ipython",
    "version": 3
   },
   "file_extension": ".py",
   "mimetype": "text/x-python",
   "name": "python",
   "nbconvert_exporter": "python",
   "pygments_lexer": "ipython3",
   "version": "3.7.7"
  }
 },
 "nbformat": 4,
 "nbformat_minor": 2
}
